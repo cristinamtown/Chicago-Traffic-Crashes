{
 "cells": [
  {
   "cell_type": "markdown",
   "metadata": {},
   "source": [
    "### Final Project Submission\n",
    "\n",
    "Please fill out:\n",
    "* Student name: Cristina Townsend\n",
    "* Student pace: part time\n",
    "* Scheduled project review date/time: Tuesday 5 Jan 2021\n",
    "* Instructor name: Yish \n",
    "* Presentation URL: https://docs.google.com/presentation/d/1RH0kNuGHBP1QfHLB5sRwwK_6bF__H9xjzLe3WBvK7-I/edit#slide=id.gb36abeb427_0_17\n"
   ]
  },
  {
   "cell_type": "markdown",
   "metadata": {},
   "source": [
    "### Business Case\n",
    "\n",
    "Using the City of Chicago Traffic Crashes dataframe, we are going to model the data to try to answer the following questions:\n",
    "\n",
    "- Primary causes of car crashes in the Chicago Area\n",
    "- Main types of car crashes\n",
    "- What can drivers do to prevent crashes?\n",
    "\n",
    "Focus in this analysis:\n",
    "- Use a model to predict whether the main cause of crash was driver’s failure to yield\n"
   ]
  },
  {
   "cell_type": "markdown",
   "metadata": {},
   "source": [
    "## Obtain the Data\n",
    "Inputting and initial look at the data"
   ]
  },
  {
   "cell_type": "code",
   "execution_count": 1,
   "metadata": {},
   "outputs": [],
   "source": [
    "import warnings\n",
    "warnings.filterwarnings('ignore')"
   ]
  },
  {
   "cell_type": "code",
   "execution_count": 2,
   "metadata": {},
   "outputs": [],
   "source": [
    "# Import pandas and data set\n",
    "import pandas as pd\n",
    "crash_df = pd.read_csv('Traffic_Crashes_-_Crashes.csv')\n",
    "people_df = pd.read_csv('Traffic_Crashes_-_People.csv')"
   ]
  },
  {
   "cell_type": "code",
   "execution_count": 3,
   "metadata": {},
   "outputs": [],
   "source": [
    "# merge the two datasets into one\n",
    "crash_df = pd.merge(crash_df, people_df, on='CRASH_RECORD_ID', how='left')"
   ]
  },
  {
   "cell_type": "code",
   "execution_count": 4,
   "metadata": {},
   "outputs": [
    {
     "data": {
      "text/html": [
       "<div>\n",
       "<style scoped>\n",
       "    .dataframe tbody tr th:only-of-type {\n",
       "        vertical-align: middle;\n",
       "    }\n",
       "\n",
       "    .dataframe tbody tr th {\n",
       "        vertical-align: top;\n",
       "    }\n",
       "\n",
       "    .dataframe thead th {\n",
       "        text-align: right;\n",
       "    }\n",
       "</style>\n",
       "<table border=\"1\" class=\"dataframe\">\n",
       "  <thead>\n",
       "    <tr style=\"text-align: right;\">\n",
       "      <th></th>\n",
       "      <th>CRASH_RECORD_ID</th>\n",
       "      <th>RD_NO_x</th>\n",
       "      <th>CRASH_DATE_EST_I</th>\n",
       "      <th>CRASH_DATE_x</th>\n",
       "      <th>POSTED_SPEED_LIMIT</th>\n",
       "      <th>TRAFFIC_CONTROL_DEVICE</th>\n",
       "      <th>DEVICE_CONDITION</th>\n",
       "      <th>WEATHER_CONDITION</th>\n",
       "      <th>LIGHTING_CONDITION</th>\n",
       "      <th>FIRST_CRASH_TYPE</th>\n",
       "      <th>...</th>\n",
       "      <th>EMS_RUN_NO</th>\n",
       "      <th>DRIVER_ACTION</th>\n",
       "      <th>DRIVER_VISION</th>\n",
       "      <th>PHYSICAL_CONDITION</th>\n",
       "      <th>PEDPEDAL_ACTION</th>\n",
       "      <th>PEDPEDAL_VISIBILITY</th>\n",
       "      <th>PEDPEDAL_LOCATION</th>\n",
       "      <th>BAC_RESULT</th>\n",
       "      <th>BAC_RESULT VALUE</th>\n",
       "      <th>CELL_PHONE_USE</th>\n",
       "    </tr>\n",
       "  </thead>\n",
       "  <tbody>\n",
       "    <tr>\n",
       "      <th>0</th>\n",
       "      <td>073682ef84ff827659552d4254ad1b98bfec24935cc9cc...</td>\n",
       "      <td>JB460108</td>\n",
       "      <td>NaN</td>\n",
       "      <td>10/02/2018 06:30:00 PM</td>\n",
       "      <td>10</td>\n",
       "      <td>NO CONTROLS</td>\n",
       "      <td>NO CONTROLS</td>\n",
       "      <td>CLEAR</td>\n",
       "      <td>DARKNESS</td>\n",
       "      <td>PARKED MOTOR VEHICLE</td>\n",
       "      <td>...</td>\n",
       "      <td>NaN</td>\n",
       "      <td>NONE</td>\n",
       "      <td>NOT OBSCURED</td>\n",
       "      <td>NORMAL</td>\n",
       "      <td>NaN</td>\n",
       "      <td>NaN</td>\n",
       "      <td>NaN</td>\n",
       "      <td>TEST NOT OFFERED</td>\n",
       "      <td>NaN</td>\n",
       "      <td>NaN</td>\n",
       "    </tr>\n",
       "    <tr>\n",
       "      <th>1</th>\n",
       "      <td>1560fb8a1e32b528fef8bfd677d2b3fc5ab37278b157fa...</td>\n",
       "      <td>JC325941</td>\n",
       "      <td>NaN</td>\n",
       "      <td>06/27/2019 04:00:00 PM</td>\n",
       "      <td>45</td>\n",
       "      <td>NO CONTROLS</td>\n",
       "      <td>NO CONTROLS</td>\n",
       "      <td>CLEAR</td>\n",
       "      <td>DAYLIGHT</td>\n",
       "      <td>SIDESWIPE SAME DIRECTION</td>\n",
       "      <td>...</td>\n",
       "      <td>NaN</td>\n",
       "      <td>UNKNOWN</td>\n",
       "      <td>UNKNOWN</td>\n",
       "      <td>NORMAL</td>\n",
       "      <td>NaN</td>\n",
       "      <td>NaN</td>\n",
       "      <td>NaN</td>\n",
       "      <td>TEST NOT OFFERED</td>\n",
       "      <td>NaN</td>\n",
       "      <td>NaN</td>\n",
       "    </tr>\n",
       "    <tr>\n",
       "      <th>2</th>\n",
       "      <td>1560fb8a1e32b528fef8bfd677d2b3fc5ab37278b157fa...</td>\n",
       "      <td>JC325941</td>\n",
       "      <td>NaN</td>\n",
       "      <td>06/27/2019 04:00:00 PM</td>\n",
       "      <td>45</td>\n",
       "      <td>NO CONTROLS</td>\n",
       "      <td>NO CONTROLS</td>\n",
       "      <td>CLEAR</td>\n",
       "      <td>DAYLIGHT</td>\n",
       "      <td>SIDESWIPE SAME DIRECTION</td>\n",
       "      <td>...</td>\n",
       "      <td>NaN</td>\n",
       "      <td>UNKNOWN</td>\n",
       "      <td>UNKNOWN</td>\n",
       "      <td>NORMAL</td>\n",
       "      <td>NaN</td>\n",
       "      <td>NaN</td>\n",
       "      <td>NaN</td>\n",
       "      <td>TEST NOT OFFERED</td>\n",
       "      <td>NaN</td>\n",
       "      <td>NaN</td>\n",
       "    </tr>\n",
       "    <tr>\n",
       "      <th>3</th>\n",
       "      <td>009e9e67203442370272e1a13d6ee51a4155dac65e583d...</td>\n",
       "      <td>JA329216</td>\n",
       "      <td>NaN</td>\n",
       "      <td>06/30/2017 04:00:00 PM</td>\n",
       "      <td>35</td>\n",
       "      <td>STOP SIGN/FLASHER</td>\n",
       "      <td>FUNCTIONING PROPERLY</td>\n",
       "      <td>CLEAR</td>\n",
       "      <td>DAYLIGHT</td>\n",
       "      <td>TURNING</td>\n",
       "      <td>...</td>\n",
       "      <td>NaN</td>\n",
       "      <td>FAILED TO YIELD</td>\n",
       "      <td>UNKNOWN</td>\n",
       "      <td>UNKNOWN</td>\n",
       "      <td>NaN</td>\n",
       "      <td>NaN</td>\n",
       "      <td>NaN</td>\n",
       "      <td>TEST NOT OFFERED</td>\n",
       "      <td>NaN</td>\n",
       "      <td>NaN</td>\n",
       "    </tr>\n",
       "    <tr>\n",
       "      <th>4</th>\n",
       "      <td>009e9e67203442370272e1a13d6ee51a4155dac65e583d...</td>\n",
       "      <td>JA329216</td>\n",
       "      <td>NaN</td>\n",
       "      <td>06/30/2017 04:00:00 PM</td>\n",
       "      <td>35</td>\n",
       "      <td>STOP SIGN/FLASHER</td>\n",
       "      <td>FUNCTIONING PROPERLY</td>\n",
       "      <td>CLEAR</td>\n",
       "      <td>DAYLIGHT</td>\n",
       "      <td>TURNING</td>\n",
       "      <td>...</td>\n",
       "      <td>NaN</td>\n",
       "      <td>NONE</td>\n",
       "      <td>NOT OBSCURED</td>\n",
       "      <td>NORMAL</td>\n",
       "      <td>NaN</td>\n",
       "      <td>NaN</td>\n",
       "      <td>NaN</td>\n",
       "      <td>TEST NOT OFFERED</td>\n",
       "      <td>NaN</td>\n",
       "      <td>NaN</td>\n",
       "    </tr>\n",
       "  </tbody>\n",
       "</table>\n",
       "<p>5 rows × 78 columns</p>\n",
       "</div>"
      ],
      "text/plain": [
       "                                     CRASH_RECORD_ID   RD_NO_x  \\\n",
       "0  073682ef84ff827659552d4254ad1b98bfec24935cc9cc...  JB460108   \n",
       "1  1560fb8a1e32b528fef8bfd677d2b3fc5ab37278b157fa...  JC325941   \n",
       "2  1560fb8a1e32b528fef8bfd677d2b3fc5ab37278b157fa...  JC325941   \n",
       "3  009e9e67203442370272e1a13d6ee51a4155dac65e583d...  JA329216   \n",
       "4  009e9e67203442370272e1a13d6ee51a4155dac65e583d...  JA329216   \n",
       "\n",
       "  CRASH_DATE_EST_I            CRASH_DATE_x  POSTED_SPEED_LIMIT  \\\n",
       "0              NaN  10/02/2018 06:30:00 PM                  10   \n",
       "1              NaN  06/27/2019 04:00:00 PM                  45   \n",
       "2              NaN  06/27/2019 04:00:00 PM                  45   \n",
       "3              NaN  06/30/2017 04:00:00 PM                  35   \n",
       "4              NaN  06/30/2017 04:00:00 PM                  35   \n",
       "\n",
       "  TRAFFIC_CONTROL_DEVICE      DEVICE_CONDITION WEATHER_CONDITION  \\\n",
       "0            NO CONTROLS           NO CONTROLS             CLEAR   \n",
       "1            NO CONTROLS           NO CONTROLS             CLEAR   \n",
       "2            NO CONTROLS           NO CONTROLS             CLEAR   \n",
       "3      STOP SIGN/FLASHER  FUNCTIONING PROPERLY             CLEAR   \n",
       "4      STOP SIGN/FLASHER  FUNCTIONING PROPERLY             CLEAR   \n",
       "\n",
       "  LIGHTING_CONDITION          FIRST_CRASH_TYPE  ... EMS_RUN_NO  \\\n",
       "0           DARKNESS      PARKED MOTOR VEHICLE  ...        NaN   \n",
       "1           DAYLIGHT  SIDESWIPE SAME DIRECTION  ...        NaN   \n",
       "2           DAYLIGHT  SIDESWIPE SAME DIRECTION  ...        NaN   \n",
       "3           DAYLIGHT                   TURNING  ...        NaN   \n",
       "4           DAYLIGHT                   TURNING  ...        NaN   \n",
       "\n",
       "     DRIVER_ACTION DRIVER_VISION PHYSICAL_CONDITION PEDPEDAL_ACTION  \\\n",
       "0             NONE  NOT OBSCURED             NORMAL             NaN   \n",
       "1          UNKNOWN       UNKNOWN             NORMAL             NaN   \n",
       "2          UNKNOWN       UNKNOWN             NORMAL             NaN   \n",
       "3  FAILED TO YIELD       UNKNOWN            UNKNOWN             NaN   \n",
       "4             NONE  NOT OBSCURED             NORMAL             NaN   \n",
       "\n",
       "  PEDPEDAL_VISIBILITY PEDPEDAL_LOCATION        BAC_RESULT BAC_RESULT VALUE  \\\n",
       "0                 NaN               NaN  TEST NOT OFFERED              NaN   \n",
       "1                 NaN               NaN  TEST NOT OFFERED              NaN   \n",
       "2                 NaN               NaN  TEST NOT OFFERED              NaN   \n",
       "3                 NaN               NaN  TEST NOT OFFERED              NaN   \n",
       "4                 NaN               NaN  TEST NOT OFFERED              NaN   \n",
       "\n",
       "  CELL_PHONE_USE  \n",
       "0            NaN  \n",
       "1            NaN  \n",
       "2            NaN  \n",
       "3            NaN  \n",
       "4            NaN  \n",
       "\n",
       "[5 rows x 78 columns]"
      ]
     },
     "execution_count": 4,
     "metadata": {},
     "output_type": "execute_result"
    }
   ],
   "source": [
    "# preview, make sure everything loaded and merge correctly\n",
    "crash_df.head()"
   ]
  },
  {
   "cell_type": "code",
   "execution_count": 5,
   "metadata": {},
   "outputs": [
    {
     "name": "stdout",
     "output_type": "stream",
     "text": [
      "<class 'pandas.core.frame.DataFrame'>\n",
      "Int64Index: 983415 entries, 0 to 983414\n",
      "Data columns (total 78 columns):\n",
      " #   Column                         Non-Null Count   Dtype  \n",
      "---  ------                         --------------   -----  \n",
      " 0   CRASH_RECORD_ID                983415 non-null  object \n",
      " 1   RD_NO_x                        975129 non-null  object \n",
      " 2   CRASH_DATE_EST_I               55419 non-null   object \n",
      " 3   CRASH_DATE_x                   983415 non-null  object \n",
      " 4   POSTED_SPEED_LIMIT             983415 non-null  int64  \n",
      " 5   TRAFFIC_CONTROL_DEVICE         983415 non-null  object \n",
      " 6   DEVICE_CONDITION               983415 non-null  object \n",
      " 7   WEATHER_CONDITION              983415 non-null  object \n",
      " 8   LIGHTING_CONDITION             983415 non-null  object \n",
      " 9   FIRST_CRASH_TYPE               983415 non-null  object \n",
      " 10  TRAFFICWAY_TYPE                983415 non-null  object \n",
      " 11  LANE_CNT                       446675 non-null  float64\n",
      " 12  ALIGNMENT                      983415 non-null  object \n",
      " 13  ROADWAY_SURFACE_COND           983415 non-null  object \n",
      " 14  ROAD_DEFECT                    983415 non-null  object \n",
      " 15  REPORT_TYPE                    954194 non-null  object \n",
      " 16  CRASH_TYPE                     983415 non-null  object \n",
      " 17  INTERSECTION_RELATED_I         264399 non-null  object \n",
      " 18  NOT_RIGHT_OF_WAY_I             35715 non-null   object \n",
      " 19  HIT_AND_RUN_I                  242928 non-null  object \n",
      " 20  DAMAGE                         983415 non-null  object \n",
      " 21  DATE_POLICE_NOTIFIED           983415 non-null  object \n",
      " 22  PRIM_CONTRIBUTORY_CAUSE        983415 non-null  object \n",
      " 23  SEC_CONTRIBUTORY_CAUSE         983415 non-null  object \n",
      " 24  STREET_NO                      983415 non-null  int64  \n",
      " 25  STREET_DIRECTION               983410 non-null  object \n",
      " 26  STREET_NAME                    983413 non-null  object \n",
      " 27  BEAT_OF_OCCURRENCE             983403 non-null  float64\n",
      " 28  PHOTOS_TAKEN_I                 12866 non-null   object \n",
      " 29  STATEMENTS_TAKEN_I             23004 non-null   object \n",
      " 30  DOORING_I                      3183 non-null    object \n",
      " 31  WORK_ZONE_I                    6462 non-null    object \n",
      " 32  WORK_ZONE_TYPE                 5164 non-null    object \n",
      " 33  WORKERS_PRESENT_I              1493 non-null    object \n",
      " 34  NUM_UNITS                      983415 non-null  int64  \n",
      " 35  MOST_SEVERE_INJURY             982532 non-null  object \n",
      " 36  INJURIES_TOTAL                 982542 non-null  float64\n",
      " 37  INJURIES_FATAL                 982542 non-null  float64\n",
      " 38  INJURIES_INCAPACITATING        982542 non-null  float64\n",
      " 39  INJURIES_NON_INCAPACITATING    982542 non-null  float64\n",
      " 40  INJURIES_REPORTED_NOT_EVIDENT  982542 non-null  float64\n",
      " 41  INJURIES_NO_INDICATION         982542 non-null  float64\n",
      " 42  INJURIES_UNKNOWN               982542 non-null  float64\n",
      " 43  CRASH_HOUR                     983415 non-null  int64  \n",
      " 44  CRASH_DAY_OF_WEEK              983415 non-null  int64  \n",
      " 45  CRASH_MONTH                    983415 non-null  int64  \n",
      " 46  LATITUDE                       977913 non-null  float64\n",
      " 47  LONGITUDE                      977913 non-null  float64\n",
      " 48  LOCATION                       977913 non-null  object \n",
      " 49  PERSON_ID                      982540 non-null  object \n",
      " 50  PERSON_TYPE                    982540 non-null  object \n",
      " 51  RD_NO_y                        982539 non-null  object \n",
      " 52  VEHICLE_ID                     962876 non-null  float64\n",
      " 53  CRASH_DATE_y                   982540 non-null  object \n",
      " 54  SEAT_NO                        202307 non-null  float64\n",
      " 55  CITY                           728774 non-null  object \n",
      " 56  STATE                          736767 non-null  object \n",
      " 57  ZIPCODE                        666120 non-null  object \n",
      " 58  SEX                            967956 non-null  object \n",
      " 59  AGE                            704186 non-null  float64\n",
      " 60  DRIVERS_LICENSE_STATE          583538 non-null  object \n",
      " 61  DRIVERS_LICENSE_CLASS          509291 non-null  object \n",
      " 62  SAFETY_EQUIPMENT               979605 non-null  object \n",
      " 63  AIRBAG_DEPLOYED                963642 non-null  object \n",
      " 64  EJECTION                       970329 non-null  object \n",
      " 65  INJURY_CLASSIFICATION          982000 non-null  object \n",
      " 66  HOSPITAL                       180236 non-null  object \n",
      " 67  EMS_AGENCY                     115037 non-null  object \n",
      " 68  EMS_RUN_NO                     18739 non-null   object \n",
      " 69  DRIVER_ACTION                  778324 non-null  object \n",
      " 70  DRIVER_VISION                  778081 non-null  object \n",
      " 71  PHYSICAL_CONDITION             778903 non-null  object \n",
      " 72  PEDPEDAL_ACTION                18564 non-null   object \n",
      " 73  PEDPEDAL_VISIBILITY            18521 non-null   object \n",
      " 74  PEDPEDAL_LOCATION              18565 non-null   object \n",
      " 75  BAC_RESULT                     779427 non-null  object \n",
      " 76  BAC_RESULT VALUE               1254 non-null    float64\n",
      " 77  CELL_PHONE_USE                 1156 non-null    object \n",
      "dtypes: float64(15), int64(6), object(57)\n",
      "memory usage: 592.7+ MB\n"
     ]
    },
    {
     "data": {
      "text/plain": [
       "None"
      ]
     },
     "metadata": {},
     "output_type": "display_data"
    },
    {
     "data": {
      "text/html": [
       "<div>\n",
       "<style scoped>\n",
       "    .dataframe tbody tr th:only-of-type {\n",
       "        vertical-align: middle;\n",
       "    }\n",
       "\n",
       "    .dataframe tbody tr th {\n",
       "        vertical-align: top;\n",
       "    }\n",
       "\n",
       "    .dataframe thead th {\n",
       "        text-align: right;\n",
       "    }\n",
       "</style>\n",
       "<table border=\"1\" class=\"dataframe\">\n",
       "  <thead>\n",
       "    <tr style=\"text-align: right;\">\n",
       "      <th></th>\n",
       "      <th>POSTED_SPEED_LIMIT</th>\n",
       "      <th>LANE_CNT</th>\n",
       "      <th>STREET_NO</th>\n",
       "      <th>BEAT_OF_OCCURRENCE</th>\n",
       "      <th>NUM_UNITS</th>\n",
       "      <th>INJURIES_TOTAL</th>\n",
       "      <th>INJURIES_FATAL</th>\n",
       "      <th>INJURIES_INCAPACITATING</th>\n",
       "      <th>INJURIES_NON_INCAPACITATING</th>\n",
       "      <th>INJURIES_REPORTED_NOT_EVIDENT</th>\n",
       "      <th>...</th>\n",
       "      <th>INJURIES_UNKNOWN</th>\n",
       "      <th>CRASH_HOUR</th>\n",
       "      <th>CRASH_DAY_OF_WEEK</th>\n",
       "      <th>CRASH_MONTH</th>\n",
       "      <th>LATITUDE</th>\n",
       "      <th>LONGITUDE</th>\n",
       "      <th>VEHICLE_ID</th>\n",
       "      <th>SEAT_NO</th>\n",
       "      <th>AGE</th>\n",
       "      <th>BAC_RESULT VALUE</th>\n",
       "    </tr>\n",
       "  </thead>\n",
       "  <tbody>\n",
       "    <tr>\n",
       "      <th>count</th>\n",
       "      <td>983415.000000</td>\n",
       "      <td>4.466750e+05</td>\n",
       "      <td>983415.000000</td>\n",
       "      <td>983403.00000</td>\n",
       "      <td>983415.000000</td>\n",
       "      <td>982542.000000</td>\n",
       "      <td>982542.000000</td>\n",
       "      <td>982542.000000</td>\n",
       "      <td>982542.000000</td>\n",
       "      <td>982542.000000</td>\n",
       "      <td>...</td>\n",
       "      <td>982542.0</td>\n",
       "      <td>983415.000000</td>\n",
       "      <td>983415.000000</td>\n",
       "      <td>983415.000000</td>\n",
       "      <td>977913.000000</td>\n",
       "      <td>977913.000000</td>\n",
       "      <td>962876.000000</td>\n",
       "      <td>202307.000000</td>\n",
       "      <td>704186.000000</td>\n",
       "      <td>1254.000000</td>\n",
       "    </tr>\n",
       "    <tr>\n",
       "      <th>mean</th>\n",
       "      <td>28.741908</td>\n",
       "      <td>9.607545e+00</td>\n",
       "      <td>3565.721645</td>\n",
       "      <td>1233.62487</td>\n",
       "      <td>2.082788</td>\n",
       "      <td>0.261514</td>\n",
       "      <td>0.001354</td>\n",
       "      <td>0.026519</td>\n",
       "      <td>0.143412</td>\n",
       "      <td>0.090229</td>\n",
       "      <td>...</td>\n",
       "      <td>0.0</td>\n",
       "      <td>13.442261</td>\n",
       "      <td>4.143026</td>\n",
       "      <td>6.682120</td>\n",
       "      <td>41.854403</td>\n",
       "      <td>-87.669046</td>\n",
       "      <td>458473.295061</td>\n",
       "      <td>4.191481</td>\n",
       "      <td>37.911975</td>\n",
       "      <td>0.167759</td>\n",
       "    </tr>\n",
       "    <tr>\n",
       "      <th>std</th>\n",
       "      <td>6.119038</td>\n",
       "      <td>2.153298e+03</td>\n",
       "      <td>2893.048010</td>\n",
       "      <td>706.24503</td>\n",
       "      <td>0.457262</td>\n",
       "      <td>0.771388</td>\n",
       "      <td>0.042685</td>\n",
       "      <td>0.206621</td>\n",
       "      <td>0.573795</td>\n",
       "      <td>0.433751</td>\n",
       "      <td>...</td>\n",
       "      <td>0.0</td>\n",
       "      <td>5.368752</td>\n",
       "      <td>1.980408</td>\n",
       "      <td>3.380636</td>\n",
       "      <td>0.427441</td>\n",
       "      <td>0.879594</td>\n",
       "      <td>263026.125033</td>\n",
       "      <td>2.189786</td>\n",
       "      <td>17.132989</td>\n",
       "      <td>0.099854</td>\n",
       "    </tr>\n",
       "    <tr>\n",
       "      <th>min</th>\n",
       "      <td>0.000000</td>\n",
       "      <td>0.000000e+00</td>\n",
       "      <td>0.000000</td>\n",
       "      <td>111.00000</td>\n",
       "      <td>1.000000</td>\n",
       "      <td>0.000000</td>\n",
       "      <td>0.000000</td>\n",
       "      <td>0.000000</td>\n",
       "      <td>0.000000</td>\n",
       "      <td>0.000000</td>\n",
       "      <td>...</td>\n",
       "      <td>0.0</td>\n",
       "      <td>0.000000</td>\n",
       "      <td>1.000000</td>\n",
       "      <td>1.000000</td>\n",
       "      <td>0.000000</td>\n",
       "      <td>-87.934014</td>\n",
       "      <td>2.000000</td>\n",
       "      <td>1.000000</td>\n",
       "      <td>-177.000000</td>\n",
       "      <td>0.000000</td>\n",
       "    </tr>\n",
       "    <tr>\n",
       "      <th>25%</th>\n",
       "      <td>30.000000</td>\n",
       "      <td>2.000000e+00</td>\n",
       "      <td>1148.500000</td>\n",
       "      <td>712.00000</td>\n",
       "      <td>2.000000</td>\n",
       "      <td>0.000000</td>\n",
       "      <td>0.000000</td>\n",
       "      <td>0.000000</td>\n",
       "      <td>0.000000</td>\n",
       "      <td>0.000000</td>\n",
       "      <td>...</td>\n",
       "      <td>0.0</td>\n",
       "      <td>10.000000</td>\n",
       "      <td>2.000000</td>\n",
       "      <td>4.000000</td>\n",
       "      <td>41.786005</td>\n",
       "      <td>-87.720835</td>\n",
       "      <td>231895.000000</td>\n",
       "      <td>3.000000</td>\n",
       "      <td>25.000000</td>\n",
       "      <td>0.120000</td>\n",
       "    </tr>\n",
       "    <tr>\n",
       "      <th>50%</th>\n",
       "      <td>30.000000</td>\n",
       "      <td>2.000000e+00</td>\n",
       "      <td>3100.000000</td>\n",
       "      <td>1212.00000</td>\n",
       "      <td>2.000000</td>\n",
       "      <td>0.000000</td>\n",
       "      <td>0.000000</td>\n",
       "      <td>0.000000</td>\n",
       "      <td>0.000000</td>\n",
       "      <td>0.000000</td>\n",
       "      <td>...</td>\n",
       "      <td>0.0</td>\n",
       "      <td>14.000000</td>\n",
       "      <td>4.000000</td>\n",
       "      <td>7.000000</td>\n",
       "      <td>41.876413</td>\n",
       "      <td>-87.672286</td>\n",
       "      <td>458911.500000</td>\n",
       "      <td>3.000000</td>\n",
       "      <td>36.000000</td>\n",
       "      <td>0.170000</td>\n",
       "    </tr>\n",
       "    <tr>\n",
       "      <th>75%</th>\n",
       "      <td>30.000000</td>\n",
       "      <td>4.000000e+00</td>\n",
       "      <td>5500.000000</td>\n",
       "      <td>1822.00000</td>\n",
       "      <td>2.000000</td>\n",
       "      <td>0.000000</td>\n",
       "      <td>0.000000</td>\n",
       "      <td>0.000000</td>\n",
       "      <td>0.000000</td>\n",
       "      <td>0.000000</td>\n",
       "      <td>...</td>\n",
       "      <td>0.0</td>\n",
       "      <td>17.000000</td>\n",
       "      <td>6.000000</td>\n",
       "      <td>10.000000</td>\n",
       "      <td>41.923434</td>\n",
       "      <td>-87.632495</td>\n",
       "      <td>685512.000000</td>\n",
       "      <td>6.000000</td>\n",
       "      <td>50.000000</td>\n",
       "      <td>0.210000</td>\n",
       "    </tr>\n",
       "    <tr>\n",
       "      <th>max</th>\n",
       "      <td>99.000000</td>\n",
       "      <td>1.191625e+06</td>\n",
       "      <td>451100.000000</td>\n",
       "      <td>6100.00000</td>\n",
       "      <td>18.000000</td>\n",
       "      <td>21.000000</td>\n",
       "      <td>4.000000</td>\n",
       "      <td>7.000000</td>\n",
       "      <td>21.000000</td>\n",
       "      <td>15.000000</td>\n",
       "      <td>...</td>\n",
       "      <td>0.0</td>\n",
       "      <td>23.000000</td>\n",
       "      <td>7.000000</td>\n",
       "      <td>12.000000</td>\n",
       "      <td>42.022780</td>\n",
       "      <td>0.000000</td>\n",
       "      <td>964247.000000</td>\n",
       "      <td>12.000000</td>\n",
       "      <td>110.000000</td>\n",
       "      <td>1.000000</td>\n",
       "    </tr>\n",
       "  </tbody>\n",
       "</table>\n",
       "<p>8 rows × 21 columns</p>\n",
       "</div>"
      ],
      "text/plain": [
       "       POSTED_SPEED_LIMIT      LANE_CNT      STREET_NO  BEAT_OF_OCCURRENCE  \\\n",
       "count       983415.000000  4.466750e+05  983415.000000        983403.00000   \n",
       "mean            28.741908  9.607545e+00    3565.721645          1233.62487   \n",
       "std              6.119038  2.153298e+03    2893.048010           706.24503   \n",
       "min              0.000000  0.000000e+00       0.000000           111.00000   \n",
       "25%             30.000000  2.000000e+00    1148.500000           712.00000   \n",
       "50%             30.000000  2.000000e+00    3100.000000          1212.00000   \n",
       "75%             30.000000  4.000000e+00    5500.000000          1822.00000   \n",
       "max             99.000000  1.191625e+06  451100.000000          6100.00000   \n",
       "\n",
       "           NUM_UNITS  INJURIES_TOTAL  INJURIES_FATAL  INJURIES_INCAPACITATING  \\\n",
       "count  983415.000000   982542.000000   982542.000000            982542.000000   \n",
       "mean        2.082788        0.261514        0.001354                 0.026519   \n",
       "std         0.457262        0.771388        0.042685                 0.206621   \n",
       "min         1.000000        0.000000        0.000000                 0.000000   \n",
       "25%         2.000000        0.000000        0.000000                 0.000000   \n",
       "50%         2.000000        0.000000        0.000000                 0.000000   \n",
       "75%         2.000000        0.000000        0.000000                 0.000000   \n",
       "max        18.000000       21.000000        4.000000                 7.000000   \n",
       "\n",
       "       INJURIES_NON_INCAPACITATING  INJURIES_REPORTED_NOT_EVIDENT  ...  \\\n",
       "count                982542.000000                  982542.000000  ...   \n",
       "mean                      0.143412                       0.090229  ...   \n",
       "std                       0.573795                       0.433751  ...   \n",
       "min                       0.000000                       0.000000  ...   \n",
       "25%                       0.000000                       0.000000  ...   \n",
       "50%                       0.000000                       0.000000  ...   \n",
       "75%                       0.000000                       0.000000  ...   \n",
       "max                      21.000000                      15.000000  ...   \n",
       "\n",
       "       INJURIES_UNKNOWN     CRASH_HOUR  CRASH_DAY_OF_WEEK    CRASH_MONTH  \\\n",
       "count          982542.0  983415.000000      983415.000000  983415.000000   \n",
       "mean                0.0      13.442261           4.143026       6.682120   \n",
       "std                 0.0       5.368752           1.980408       3.380636   \n",
       "min                 0.0       0.000000           1.000000       1.000000   \n",
       "25%                 0.0      10.000000           2.000000       4.000000   \n",
       "50%                 0.0      14.000000           4.000000       7.000000   \n",
       "75%                 0.0      17.000000           6.000000      10.000000   \n",
       "max                 0.0      23.000000           7.000000      12.000000   \n",
       "\n",
       "            LATITUDE      LONGITUDE     VEHICLE_ID        SEAT_NO  \\\n",
       "count  977913.000000  977913.000000  962876.000000  202307.000000   \n",
       "mean       41.854403     -87.669046  458473.295061       4.191481   \n",
       "std         0.427441       0.879594  263026.125033       2.189786   \n",
       "min         0.000000     -87.934014       2.000000       1.000000   \n",
       "25%        41.786005     -87.720835  231895.000000       3.000000   \n",
       "50%        41.876413     -87.672286  458911.500000       3.000000   \n",
       "75%        41.923434     -87.632495  685512.000000       6.000000   \n",
       "max        42.022780       0.000000  964247.000000      12.000000   \n",
       "\n",
       "                 AGE  BAC_RESULT VALUE  \n",
       "count  704186.000000       1254.000000  \n",
       "mean       37.911975          0.167759  \n",
       "std        17.132989          0.099854  \n",
       "min      -177.000000          0.000000  \n",
       "25%        25.000000          0.120000  \n",
       "50%        36.000000          0.170000  \n",
       "75%        50.000000          0.210000  \n",
       "max       110.000000          1.000000  \n",
       "\n",
       "[8 rows x 21 columns]"
      ]
     },
     "execution_count": 5,
     "metadata": {},
     "output_type": "execute_result"
    }
   ],
   "source": [
    "# A quick preview of the data\n",
    "display(crash_df.info())\n",
    "crash_df.describe()"
   ]
  },
  {
   "cell_type": "markdown",
   "metadata": {},
   "source": [
    "### Column Names and Descriptions"
   ]
  },
  {
   "cell_type": "markdown",
   "metadata": {},
   "source": [
    "**POSTED_SPEED_LIMIT**\t\n",
    "Posted speed limit, as determined by reporting officer\n",
    "\n",
    "**WEATHER_CONDITION**\t\n",
    "Weather condition at time of crash, as determined by reporting officer\n",
    "\n",
    "**LIGHTING_CONDITION**\t\n",
    "Light condition at time of crash, as determined by reporting officer\n",
    "\n",
    "**FIRST_CRASH_TYPE**\t\n",
    "Type of first collision in crash\n",
    "\n",
    "**TRAFFICWAY_TYPE**\t\n",
    "Trafficway type, as determined by reporting officer\n",
    "\n",
    "**LANE_CNT**\t\n",
    "Total number of through lanes in either direction, excluding turn lanes, as determined by reporting officer (0 = intersection)\n",
    "\n",
    "**ALIGNMENT**\t\n",
    "Street alignment at crash location, as determined by reporting officer\n",
    "\n",
    "**ROADWAY_SURFACE_COND**\t\n",
    "Road surface condition, as determined by reporting officer\n",
    "\n",
    "**ROAD_DEFECT**\t\n",
    "Road defects, as determined by reporting officer\n",
    "\n",
    "**CRASH_TYPE**\t\n",
    "A general severity classification for the crash. Can be either Injury and/or Tow Due to Crash or No Injury / Drive Away\n",
    "\n",
    "**INTERSECTION_RELATED_I**\t\n",
    "A field observation by the police officer whether an intersection played a role in the crash. Does not represent whether or not the crash occurred within the intersection.\n",
    "\n",
    "**NOT_RIGHT_OF_WAY_I**\t\n",
    "Whether the crash begun or first contact was made outside of the public right-of-way.\n",
    "\n",
    "**HIT_AND_RUN_I**\n",
    "Crash did/did not involve a driver who caused the crash and fled the scene without exchanging information and/or rendering aid\n",
    "\n",
    "**DAMAGE**\t\n",
    "A field observation of estimated damage.\n",
    "\n",
    "**PRIM_CONTRIBUTORY_CAUSE**\t\n",
    "The factor which was most significant in causing the crash, as determined by officer judgment\n",
    "\n",
    "**SEC_CONTRIBUTORY_CAUSE**\t\n",
    "The factor which was second most significant in causing the crash, as determined by officer judgment\n",
    "\n",
    "**BEAT_OF_OCCURRENCE**\t\n",
    "Chicago Police Department Beat ID. Boundaries available at https://data.cityofchicago.org/d/aerh-rz74\n",
    "\n",
    "**STATEMENTS_TAKEN_I**\t\n",
    "Whether statements were taken from unit(s) involved in crash\n",
    "\n",
    "**WORK_ZONE_TYPE**\t\n",
    "The type of work zone, if any\n",
    "\n",
    "**NUM_UNITS**\t\n",
    "Number of units involved in the crash. A unit can be a motor vehicle, a pedestrian, a bicyclist, or another non-passenger roadway user. Each unit represents a mode of traffic with an independent trajectory.\n",
    "\n",
    "**CRASH_HOUR**\t\n",
    "The hour of the day component of CRASH_DATE.\n",
    "\n",
    "**CRASH_DAY_OF_WEEK**\t\n",
    "The day of the week component of CRASH_DATE. Sunday=1\n",
    "\n",
    "**CRASH_MONTH**\t\n",
    "The month component of CRASH_DATE.\n",
    "\n",
    "**SEX**\t\n",
    "Gender of person involved in crash, as determined by reporting officer\n",
    "\n",
    "**AGE**\t\n",
    "Age of person involved in crash\n",
    "\n",
    "**AIRBAG_DEPLOYED**\t\n",
    "Whether vehicle occupant airbag deployed as result of crash\n",
    "\n",
    "**EJECTION**\t\n",
    "Whether vehicle occupant was ejected or extricated from the vehicle as a result of crash\n",
    "\n",
    "**INJURY_CLASSIFICATION**\t\n",
    "Severity of injury person sustained in the crash\n",
    "\n",
    "**DRIVER_ACTION**\t\n",
    "Driver action that contributed to the crash, as determined by reporting officer\n",
    "\n",
    "**DRIVER_VISION**\t\n",
    "What, if any, objects obscured the driver’s vision at time of crash\n",
    "\n",
    "**PHYSICAL_CONDITION**\t\n",
    "Driver’s apparent physical condition at time of crash, as observed by the reporting officer\n",
    "\n",
    "**PEDPEDAL_VISIBILITY**\t\n",
    "Visibility of pedestrian of cyclist safety equipment in use at time of crash\n",
    "\n",
    "**BAC_RESULT**\t\n",
    "Status of blood alcohol concentration testing for driver or other person involved in crash\n",
    "\n",
    "**BAC_RESULT VALUE**\t\n",
    "Driver’s blood alcohol concentration test result (fatal crashes may include pedestrian or cyclist results)\n",
    "\n",
    "**CELL_PHONE_USE**\t\n",
    "Whether person was/was not using cellphone at the time of the crash, as determined by the reporting officer"
   ]
  },
  {
   "cell_type": "markdown",
   "metadata": {},
   "source": [
    "## Scrubbing and exploring the data"
   ]
  },
  {
   "cell_type": "code",
   "execution_count": 6,
   "metadata": {},
   "outputs": [
    {
     "data": {
      "text/plain": [
       "(442956, 78)"
      ]
     },
     "execution_count": 6,
     "metadata": {},
     "output_type": "execute_result"
    }
   ],
   "source": [
    "# Remove duplicate crashes based on crash_ID\n",
    "crash_df.drop_duplicates(subset=['CRASH_RECORD_ID'], keep = 'first', inplace = True)\n",
    "crash_df.shape"
   ]
  },
  {
   "cell_type": "code",
   "execution_count": 7,
   "metadata": {},
   "outputs": [],
   "source": [
    "# Create list of columns to drop\n",
    "drop_col = ['CRASH_DATE_EST_I','PHOTOS_TAKEN_I', 'DOORING_I',  \n",
    "            'WORK_ZONE_I', 'WORKERS_PRESENT_I','LOCATION', 'RD_NO_x', 'RD_NO_y',\n",
    "            'REPORT_TYPE','CITY', 'STATE', 'EMS_AGENCY', 'ZIPCODE', \n",
    "            'DRIVERS_LICENSE_STATE', 'DRIVERS_LICENSE_CLASS', 'EMS_RUN_NO',\n",
    "            'PERSON_ID', 'HOSPITAL','VEHICLE_ID', 'CRASH_RECORD_ID', 'CRASH_DATE_x',\n",
    "            'CRASH_DATE_y', 'CRASH_DATE_EST_I', 'DATE_POLICE_NOTIFIED', 'LATITUDE',\n",
    "            'LONGITUDE', 'STREET_DIRECTION', 'STREET_NAME', 'SEAT_NO', 'INJURIES_FATAL', 'INJURIES_INCAPACITATING', \n",
    "            'INJURIES_NON_INCAPACITATING', 'INJURIES_REPORTED_NOT_EVIDENT', \n",
    "            'INJURIES_NO_INDICATION', 'INJURIES_UNKNOWN', 'DAMAGE', \n",
    "            'TRAFFIC_CONTROL_DEVICE', 'DEVICE_CONDITION', 'PEDPEDAL_ACTION',\n",
    "            'PEDPEDAL_LOCATION', 'SAFETY_EQUIPMENT', 'PERSON_TYPE', \n",
    "            'PHYSICAL_CONDITION', 'MOST_SEVERE_INJURY', 'STREET_NO']"
   ]
  },
  {
   "cell_type": "code",
   "execution_count": 8,
   "metadata": {},
   "outputs": [],
   "source": [
    "# Drop those columns\n",
    "crash_df.drop(drop_col, axis=1, inplace=True)"
   ]
  },
  {
   "cell_type": "code",
   "execution_count": 9,
   "metadata": {},
   "outputs": [
    {
     "name": "stdout",
     "output_type": "stream",
     "text": [
      "<class 'pandas.core.frame.DataFrame'>\n",
      "Int64Index: 442956 entries, 0 to 983409\n",
      "Data columns (total 34 columns):\n",
      " #   Column                   Non-Null Count   Dtype  \n",
      "---  ------                   --------------   -----  \n",
      " 0   POSTED_SPEED_LIMIT       442956 non-null  int64  \n",
      " 1   WEATHER_CONDITION        442956 non-null  object \n",
      " 2   LIGHTING_CONDITION       442956 non-null  object \n",
      " 3   FIRST_CRASH_TYPE         442956 non-null  object \n",
      " 4   TRAFFICWAY_TYPE          442956 non-null  object \n",
      " 5   LANE_CNT                 198959 non-null  float64\n",
      " 6   ALIGNMENT                442956 non-null  object \n",
      " 7   ROADWAY_SURFACE_COND     442956 non-null  object \n",
      " 8   ROAD_DEFECT              442956 non-null  object \n",
      " 9   CRASH_TYPE               442956 non-null  object \n",
      " 10  INTERSECTION_RELATED_I   99485 non-null   object \n",
      " 11  NOT_RIGHT_OF_WAY_I       20744 non-null   object \n",
      " 12  HIT_AND_RUN_I            127432 non-null  object \n",
      " 13  PRIM_CONTRIBUTORY_CAUSE  442956 non-null  object \n",
      " 14  SEC_CONTRIBUTORY_CAUSE   442956 non-null  object \n",
      " 15  BEAT_OF_OCCURRENCE       442951 non-null  float64\n",
      " 16  STATEMENTS_TAKEN_I       8960 non-null    object \n",
      " 17  WORK_ZONE_TYPE           2334 non-null    object \n",
      " 18  NUM_UNITS                442956 non-null  int64  \n",
      " 19  INJURIES_TOTAL           442083 non-null  float64\n",
      " 20  CRASH_HOUR               442956 non-null  int64  \n",
      " 21  CRASH_DAY_OF_WEEK        442956 non-null  int64  \n",
      " 22  CRASH_MONTH              442956 non-null  int64  \n",
      " 23  SEX                      441105 non-null  object \n",
      " 24  AGE                      270944 non-null  float64\n",
      " 25  AIRBAG_DEPLOYED          437961 non-null  object \n",
      " 26  EJECTION                 440319 non-null  object \n",
      " 27  INJURY_CLASSIFICATION    441880 non-null  object \n",
      " 28  DRIVER_ACTION            432756 non-null  object \n",
      " 29  DRIVER_VISION            432698 non-null  object \n",
      " 30  PEDPEDAL_VISIBILITY      3992 non-null    object \n",
      " 31  BAC_RESULT               432966 non-null  object \n",
      " 32  BAC_RESULT VALUE         1157 non-null    float64\n",
      " 33  CELL_PHONE_USE           841 non-null     object \n",
      "dtypes: float64(5), int64(5), object(24)\n",
      "memory usage: 118.3+ MB\n"
     ]
    }
   ],
   "source": [
    "# Check\n",
    "crash_df.info()"
   ]
  },
  {
   "cell_type": "markdown",
   "metadata": {},
   "source": [
    "### Object null Values"
   ]
  },
  {
   "cell_type": "code",
   "execution_count": 10,
   "metadata": {},
   "outputs": [
    {
     "data": {
      "text/plain": [
       "['WEATHER_CONDITION',\n",
       " 'LIGHTING_CONDITION',\n",
       " 'FIRST_CRASH_TYPE',\n",
       " 'TRAFFICWAY_TYPE',\n",
       " 'ALIGNMENT',\n",
       " 'ROADWAY_SURFACE_COND',\n",
       " 'ROAD_DEFECT',\n",
       " 'CRASH_TYPE',\n",
       " 'INTERSECTION_RELATED_I',\n",
       " 'NOT_RIGHT_OF_WAY_I',\n",
       " 'HIT_AND_RUN_I',\n",
       " 'PRIM_CONTRIBUTORY_CAUSE',\n",
       " 'SEC_CONTRIBUTORY_CAUSE',\n",
       " 'STATEMENTS_TAKEN_I',\n",
       " 'WORK_ZONE_TYPE',\n",
       " 'SEX',\n",
       " 'AIRBAG_DEPLOYED',\n",
       " 'EJECTION',\n",
       " 'INJURY_CLASSIFICATION',\n",
       " 'DRIVER_ACTION',\n",
       " 'DRIVER_VISION',\n",
       " 'PEDPEDAL_VISIBILITY',\n",
       " 'BAC_RESULT',\n",
       " 'CELL_PHONE_USE']"
      ]
     },
     "execution_count": 10,
     "metadata": {},
     "output_type": "execute_result"
    }
   ],
   "source": [
    "#Create List of object columns\n",
    "object_col = list(crash_df.select_dtypes(include=['object']).columns)\n",
    "object_col"
   ]
  },
  {
   "cell_type": "markdown",
   "metadata": {},
   "source": [
    "Pull unique values in each column of object_col.\n",
    "This will help us know how we should fill or drop the null values."
   ]
  },
  {
   "cell_type": "code",
   "execution_count": 11,
   "metadata": {},
   "outputs": [
    {
     "name": "stdout",
     "output_type": "stream",
     "text": [
      "WEATHER_CONDITION: ['CLEAR' 'RAIN' 'CLOUDY/OVERCAST' 'UNKNOWN' 'SNOW' 'SLEET/HAIL'\n",
      " 'FOG/SMOKE/HAZE' 'FREEZING RAIN/DRIZZLE' 'SEVERE CROSS WIND GATE' 'OTHER'\n",
      " 'BLOWING SNOW' 'BLOWING SAND, SOIL, DIRT']\n",
      "\n",
      "LIGHTING_CONDITION: ['DARKNESS' 'DAYLIGHT' 'DARKNESS, LIGHTED ROAD' 'DAWN' 'DUSK' 'UNKNOWN']\n",
      "\n",
      "FIRST_CRASH_TYPE: ['PARKED MOTOR VEHICLE' 'SIDESWIPE SAME DIRECTION' 'TURNING' 'REAR END'\n",
      " 'ANGLE' 'OTHER OBJECT' 'PEDESTRIAN' 'FIXED OBJECT'\n",
      " 'SIDESWIPE OPPOSITE DIRECTION' 'PEDALCYCLIST' 'HEAD ON' 'REAR TO REAR'\n",
      " 'REAR TO FRONT' 'REAR TO SIDE' 'OTHER NONCOLLISION' 'OVERTURNED' 'ANIMAL'\n",
      " 'TRAIN']\n",
      "\n",
      "TRAFFICWAY_TYPE: ['OTHER' 'ONE-WAY' 'NOT DIVIDED' 'T-INTERSECTION'\n",
      " 'DIVIDED - W/MEDIAN BARRIER' 'PARKING LOT'\n",
      " 'DIVIDED - W/MEDIAN (NOT RAISED)' 'FOUR WAY' 'UNKNOWN' 'CENTER TURN LANE'\n",
      " 'RAMP' 'ALLEY' 'FIVE POINT, OR MORE' 'DRIVEWAY' 'Y-INTERSECTION'\n",
      " 'UNKNOWN INTERSECTION TYPE' 'NOT REPORTED' 'TRAFFIC ROUTE'\n",
      " 'L-INTERSECTION' 'ROUNDABOUT']\n",
      "\n",
      "ALIGNMENT: ['STRAIGHT AND LEVEL' 'CURVE ON GRADE' 'STRAIGHT ON GRADE' 'CURVE, LEVEL'\n",
      " 'STRAIGHT ON HILLCREST' 'CURVE ON HILLCREST']\n",
      "\n",
      "ROADWAY_SURFACE_COND: ['DRY' 'WET' 'SNOW OR SLUSH' 'UNKNOWN' 'ICE' 'OTHER' 'SAND, MUD, DIRT']\n",
      "\n",
      "ROAD_DEFECT: ['NO DEFECTS' 'UNKNOWN' 'RUT, HOLES' 'SHOULDER DEFECT' 'OTHER'\n",
      " 'WORN SURFACE' 'DEBRIS ON ROADWAY']\n",
      "\n",
      "CRASH_TYPE: ['NO INJURY / DRIVE AWAY' 'INJURY AND / OR TOW DUE TO CRASH']\n",
      "\n",
      "INTERSECTION_RELATED_I: [nan 'Y' 'N']\n",
      "\n",
      "NOT_RIGHT_OF_WAY_I: [nan 'Y' 'N']\n",
      "\n",
      "HIT_AND_RUN_I: [nan 'Y' 'N']\n",
      "\n",
      "PRIM_CONTRIBUTORY_CAUSE: ['NOT APPLICABLE' 'UNABLE TO DETERMINE' 'FAILING TO YIELD RIGHT-OF-WAY'\n",
      " 'IMPROPER OVERTAKING/PASSING' 'EXCEEDING SAFE SPEED FOR CONDITIONS'\n",
      " 'IMPROPER BACKING' 'DISTRACTION - FROM INSIDE VEHICLE'\n",
      " 'IMPROPER LANE USAGE' 'FOLLOWING TOO CLOSELY'\n",
      " 'FAILING TO REDUCE SPEED TO AVOID CRASH' 'DISREGARDING TRAFFIC SIGNALS'\n",
      " 'EXCEEDING AUTHORIZED SPEED LIMIT' 'IMPROPER TURNING/NO SIGNAL'\n",
      " 'DISTRACTION - FROM OUTSIDE VEHICLE'\n",
      " 'OPERATING VEHICLE IN ERRATIC, RECKLESS, CARELESS, NEGLIGENT OR AGGRESSIVE MANNER'\n",
      " 'WEATHER' 'EQUIPMENT - VEHICLE CONDITION' 'DISREGARDING STOP SIGN'\n",
      " 'UNDER THE INFLUENCE OF ALCOHOL/DRUGS (USE WHEN ARREST IS EFFECTED)'\n",
      " 'VISION OBSCURED (SIGNS, TREE LIMBS, BUILDINGS, ETC.)'\n",
      " 'DRIVING SKILLS/KNOWLEDGE/EXPERIENCE' 'ROAD CONSTRUCTION/MAINTENANCE'\n",
      " 'DRIVING ON WRONG SIDE/WRONG WAY'\n",
      " 'ROAD ENGINEERING/SURFACE/MARKING DEFECTS' 'PHYSICAL CONDITION OF DRIVER'\n",
      " 'EVASIVE ACTION DUE TO ANIMAL, OBJECT, NONMOTORIST'\n",
      " 'DISREGARDING YIELD SIGN'\n",
      " 'HAD BEEN DRINKING (USE WHEN ARREST IS NOT MADE)'\n",
      " 'DISREGARDING ROAD MARKINGS' 'CELL PHONE USE OTHER THAN TEXTING'\n",
      " 'DISREGARDING OTHER TRAFFIC SIGNS'\n",
      " 'BICYCLE ADVANCING LEGALLY ON RED LIGHT' 'TURNING RIGHT ON RED' 'ANIMAL'\n",
      " 'DISTRACTION - OTHER ELECTRONIC DEVICE (NAVIGATION DEVICE, DVD PLAYER, ETC.)'\n",
      " 'OBSTRUCTED CROSSWALKS' 'RELATED TO BUS STOP' 'TEXTING'\n",
      " 'PASSING STOPPED SCHOOL BUS' 'MOTORCYCLE ADVANCING LEGALLY ON RED LIGHT']\n",
      "\n",
      "SEC_CONTRIBUTORY_CAUSE: ['NOT APPLICABLE' 'UNABLE TO DETERMINE' 'IMPROPER LANE USAGE'\n",
      " 'FOLLOWING TOO CLOSELY' 'DISTRACTION - FROM INSIDE VEHICLE'\n",
      " 'FAILING TO REDUCE SPEED TO AVOID CRASH' 'DISREGARDING STOP SIGN'\n",
      " 'EXCEEDING AUTHORIZED SPEED LIMIT' 'FAILING TO YIELD RIGHT-OF-WAY'\n",
      " 'DRIVING SKILLS/KNOWLEDGE/EXPERIENCE' 'WEATHER'\n",
      " 'EQUIPMENT - VEHICLE CONDITION' 'PHYSICAL CONDITION OF DRIVER'\n",
      " 'DISREGARDING OTHER TRAFFIC SIGNS' 'IMPROPER BACKING'\n",
      " 'DISREGARDING TRAFFIC SIGNALS'\n",
      " 'HAD BEEN DRINKING (USE WHEN ARREST IS NOT MADE)'\n",
      " 'IMPROPER TURNING/NO SIGNAL' 'ROAD CONSTRUCTION/MAINTENANCE'\n",
      " 'IMPROPER OVERTAKING/PASSING'\n",
      " 'UNDER THE INFLUENCE OF ALCOHOL/DRUGS (USE WHEN ARREST IS EFFECTED)'\n",
      " 'OPERATING VEHICLE IN ERRATIC, RECKLESS, CARELESS, NEGLIGENT OR AGGRESSIVE MANNER'\n",
      " 'DISTRACTION - FROM OUTSIDE VEHICLE' 'DRIVING ON WRONG SIDE/WRONG WAY'\n",
      " 'DISREGARDING ROAD MARKINGS' 'EXCEEDING SAFE SPEED FOR CONDITIONS'\n",
      " 'EVASIVE ACTION DUE TO ANIMAL, OBJECT, NONMOTORIST'\n",
      " 'ROAD ENGINEERING/SURFACE/MARKING DEFECTS'\n",
      " 'VISION OBSCURED (SIGNS, TREE LIMBS, BUILDINGS, ETC.)'\n",
      " 'DISTRACTION - OTHER ELECTRONIC DEVICE (NAVIGATION DEVICE, DVD PLAYER, ETC.)'\n",
      " 'PASSING STOPPED SCHOOL BUS' 'ANIMAL'\n",
      " 'MOTORCYCLE ADVANCING LEGALLY ON RED LIGHT' 'TURNING RIGHT ON RED'\n",
      " 'CELL PHONE USE OTHER THAN TEXTING'\n",
      " 'BICYCLE ADVANCING LEGALLY ON RED LIGHT' 'RELATED TO BUS STOP'\n",
      " 'OBSTRUCTED CROSSWALKS' 'DISREGARDING YIELD SIGN' 'TEXTING']\n",
      "\n",
      "STATEMENTS_TAKEN_I: [nan 'Y' 'N']\n",
      "\n",
      "WORK_ZONE_TYPE: [nan 'CONSTRUCTION' 'UTILITY' 'MAINTENANCE' 'UNKNOWN']\n",
      "\n",
      "SEX: ['M' 'F' 'X' nan]\n",
      "\n",
      "AIRBAG_DEPLOYED: ['DID NOT DEPLOY' 'DEPLOYMENT UNKNOWN' 'NOT APPLICABLE' 'DEPLOYED, FRONT'\n",
      " nan 'DEPLOYED, SIDE' 'DEPLOYED, COMBINATION'\n",
      " 'DEPLOYED OTHER (KNEE, AIR, BELT, ETC.)']\n",
      "\n",
      "EJECTION: ['NONE' 'UNKNOWN' 'TOTALLY EJECTED' nan 'PARTIALLY EJECTED'\n",
      " 'TRAPPED/EXTRICATED']\n",
      "\n",
      "INJURY_CLASSIFICATION: ['NO INDICATION OF INJURY' 'NONINCAPACITATING INJURY'\n",
      " 'INCAPACITATING INJURY' 'REPORTED, NOT EVIDENT' 'FATAL' nan]\n",
      "\n",
      "DRIVER_ACTION: ['NONE' 'UNKNOWN' 'FAILED TO YIELD' 'OTHER' 'FOLLOWED TOO CLOSELY'\n",
      " 'IMPROPER BACKING' 'IMPROPER LANE CHANGE' 'IMPROPER PASSING'\n",
      " 'TOO FAST FOR CONDITIONS' 'DISREGARDED CONTROL DEVICES' 'IMPROPER TURN'\n",
      " 'IMPROPER PARKING' 'EVADING POLICE VEHICLE' nan 'WRONG WAY/SIDE'\n",
      " 'EMERGENCY VEHICLE ON CALL' 'TEXTING' 'CELL PHONE USE OTHER THAN TEXTING'\n",
      " 'OVERCORRECTED' 'LICENSE RESTRICTIONS' 'STOPPED SCHOOL BUS']\n",
      "\n",
      "DRIVER_VISION: ['NOT OBSCURED' 'UNKNOWN' 'PARKED VEHICLES' 'OTHER' nan\n",
      " 'WINDSHIELD (WATER/ICE)' 'MOVING VEHICLES' 'BUILDINGS' 'TREES, PLANTS'\n",
      " 'BLINDED - HEADLIGHTS' 'BLINDED - SUNLIGHT' 'HILLCREST' 'EMBANKMENT'\n",
      " 'BLOWING MATERIALS' 'SIGNBOARD']\n",
      "\n",
      "PEDPEDAL_VISIBILITY: [nan 'CONTRASTING CLOTHING' 'NO CONTRASTING CLOTHING'\n",
      " 'REFLECTIVE MATERIAL' 'OTHER LIGHT SOURCE USED']\n",
      "\n",
      "BAC_RESULT: ['TEST NOT OFFERED' nan 'TEST REFUSED' 'TEST TAKEN'\n",
      " 'TEST PERFORMED, RESULTS UNKNOWN']\n",
      "\n",
      "CELL_PHONE_USE: [nan 'N' 'Y']\n",
      "\n"
     ]
    }
   ],
   "source": [
    "for col in object_col:\n",
    "    unique = crash_df[col].unique()\n",
    "    print(f'{col}: {unique}\\n')"
   ]
  },
  {
   "cell_type": "code",
   "execution_count": 12,
   "metadata": {},
   "outputs": [
    {
     "name": "stdout",
     "output_type": "stream",
     "text": [
      "WEATHER_CONDITION: 12\n",
      "LIGHTING_CONDITION: 6\n",
      "FIRST_CRASH_TYPE: 18\n",
      "TRAFFICWAY_TYPE: 20\n",
      "ALIGNMENT: 6\n",
      "ROADWAY_SURFACE_COND: 7\n",
      "ROAD_DEFECT: 7\n",
      "CRASH_TYPE: 2\n",
      "INTERSECTION_RELATED_I: 2\n",
      "NOT_RIGHT_OF_WAY_I: 2\n",
      "HIT_AND_RUN_I: 2\n",
      "PRIM_CONTRIBUTORY_CAUSE: 40\n",
      "SEC_CONTRIBUTORY_CAUSE: 40\n",
      "STATEMENTS_TAKEN_I: 2\n",
      "WORK_ZONE_TYPE: 4\n",
      "SEX: 3\n",
      "AIRBAG_DEPLOYED: 7\n",
      "EJECTION: 5\n",
      "INJURY_CLASSIFICATION: 5\n",
      "DRIVER_ACTION: 20\n",
      "DRIVER_VISION: 14\n",
      "PEDPEDAL_VISIBILITY: 4\n",
      "BAC_RESULT: 4\n",
      "CELL_PHONE_USE: 2\n"
     ]
    }
   ],
   "source": [
    "# Check the number of unique values in each object column\n",
    "for col in object_col:\n",
    "    unique_ = crash_df[col].nunique()\n",
    "    print(f'{col}: {unique_}')"
   ]
  },
  {
   "cell_type": "code",
   "execution_count": 13,
   "metadata": {},
   "outputs": [
    {
     "name": "stdout",
     "output_type": "stream",
     "text": [
      "WEATHER_CONDITION: 0\n",
      "LIGHTING_CONDITION: 0\n",
      "FIRST_CRASH_TYPE: 0\n",
      "TRAFFICWAY_TYPE: 0\n",
      "ALIGNMENT: 0\n",
      "ROADWAY_SURFACE_COND: 0\n",
      "ROAD_DEFECT: 0\n",
      "CRASH_TYPE: 0\n",
      "INTERSECTION_RELATED_I: 343471\n",
      "NOT_RIGHT_OF_WAY_I: 422212\n",
      "HIT_AND_RUN_I: 315524\n",
      "PRIM_CONTRIBUTORY_CAUSE: 0\n",
      "SEC_CONTRIBUTORY_CAUSE: 0\n",
      "STATEMENTS_TAKEN_I: 433996\n",
      "WORK_ZONE_TYPE: 440622\n",
      "SEX: 1851\n",
      "AIRBAG_DEPLOYED: 4995\n",
      "EJECTION: 2637\n",
      "INJURY_CLASSIFICATION: 1076\n",
      "DRIVER_ACTION: 10200\n",
      "DRIVER_VISION: 10258\n",
      "PEDPEDAL_VISIBILITY: 438964\n",
      "BAC_RESULT: 9990\n",
      "CELL_PHONE_USE: 442115\n"
     ]
    }
   ],
   "source": [
    "# Check for nulls in object_col\n",
    "for col in object_col:\n",
    "    nulls = crash_df[col].isna().sum()\n",
    "    print(f'{col}: {nulls}')"
   ]
  },
  {
   "cell_type": "markdown",
   "metadata": {},
   "source": [
    "Now that we have an idea of the null values in each column, we can start dealing with the null values."
   ]
  },
  {
   "cell_type": "code",
   "execution_count": 14,
   "metadata": {},
   "outputs": [
    {
     "name": "stdout",
     "output_type": "stream",
     "text": [
      "WORK_ZONE_TYPE: 0\n",
      "DRIVER_ACTION: 0\n",
      "DRIVER_VISION: 0\n",
      "PEDPEDAL_VISIBILITY: 0\n",
      "INJURY_CLASSIFICATION: 0\n"
     ]
    }
   ],
   "source": [
    "# Fill nulls with \"UNKNOWN\"\n",
    "fill_na = ['WORK_ZONE_TYPE', 'DRIVER_ACTION','DRIVER_VISION', 'PEDPEDAL_VISIBILITY',\n",
    "          'INJURY_CLASSIFICATION']\n",
    "\n",
    "for col in fill_na:\n",
    "    crash_df[col].fillna('UNKNOWN', inplace = True) \n",
    "    is_na = crash_df[col].isna().sum()\n",
    "    print(f'{col}: {is_na}')"
   ]
  },
  {
   "cell_type": "code",
   "execution_count": 15,
   "metadata": {},
   "outputs": [
    {
     "name": "stdout",
     "output_type": "stream",
     "text": [
      "INTERSECTION_RELATED_I: 0\n",
      "NOT_RIGHT_OF_WAY_I: 0\n",
      "HIT_AND_RUN_I: 0\n",
      "STATEMENTS_TAKEN_I: 0\n",
      "CELL_PHONE_USE: 0\n"
     ]
    }
   ],
   "source": [
    "# List columns to fill nan with N\n",
    "fill_na_n = ['INTERSECTION_RELATED_I', 'NOT_RIGHT_OF_WAY_I', 'HIT_AND_RUN_I',\n",
    "             'STATEMENTS_TAKEN_I', 'CELL_PHONE_USE']\n",
    "\n",
    "# For loop to replace nan in object_col with N\n",
    "for col in fill_na_n:\n",
    "    crash_df[col].fillna('N', inplace = True) \n",
    "    is_na = crash_df[col].isna().sum()\n",
    "    print(f'{col}: {is_na}')"
   ]
  },
  {
   "cell_type": "code",
   "execution_count": 16,
   "metadata": {},
   "outputs": [
    {
     "data": {
      "text/plain": [
       "array(['M', 'F', 'X'], dtype=object)"
      ]
     },
     "execution_count": 16,
     "metadata": {},
     "output_type": "execute_result"
    }
   ],
   "source": [
    "# Fill sex null with X\n",
    "crash_df['SEX'].fillna('X', inplace = True) \n",
    "crash_df['SEX'].unique()"
   ]
  },
  {
   "cell_type": "code",
   "execution_count": 17,
   "metadata": {},
   "outputs": [
    {
     "data": {
      "text/plain": [
       "array(['TEST NOT OFFERED', 'TEST REFUSED', 'TEST TAKEN',\n",
       "       'TEST PERFORMED, RESULTS UNKNOWN'], dtype=object)"
      ]
     },
     "execution_count": 17,
     "metadata": {},
     "output_type": "execute_result"
    }
   ],
   "source": [
    "# Fill bac results\n",
    "crash_df['BAC_RESULT'].fillna('TEST NOT OFFERED', inplace = True) \n",
    "crash_df['BAC_RESULT'].unique()"
   ]
  },
  {
   "cell_type": "code",
   "execution_count": 18,
   "metadata": {},
   "outputs": [
    {
     "data": {
      "text/plain": [
       "array(['NONE', 'UNKNOWN', 'TOTALLY EJECTED', 'PARTIALLY EJECTED',\n",
       "       'TRAPPED/EXTRICATED'], dtype=object)"
      ]
     },
     "execution_count": 18,
     "metadata": {},
     "output_type": "execute_result"
    }
   ],
   "source": [
    "# Fill Ejection null\n",
    "crash_df['EJECTION'].fillna('NONE', inplace = True) \n",
    "crash_df['EJECTION'].unique()"
   ]
  },
  {
   "cell_type": "code",
   "execution_count": 19,
   "metadata": {},
   "outputs": [
    {
     "data": {
      "text/plain": [
       "array(['DID NOT DEPLOY', 'DEPLOYMENT UNKNOWN', 'NOT APPLICABLE',\n",
       "       'DEPLOYED, FRONT', 'DEPLOYED, SIDE', 'DEPLOYED, COMBINATION',\n",
       "       'DEPLOYED OTHER (KNEE, AIR, BELT, ETC.)'], dtype=object)"
      ]
     },
     "execution_count": 19,
     "metadata": {},
     "output_type": "execute_result"
    }
   ],
   "source": [
    "crash_df['AIRBAG_DEPLOYED'].fillna('DEPLOYMENT UNKNOWN', inplace = True) \n",
    "crash_df['AIRBAG_DEPLOYED'].unique()"
   ]
  },
  {
   "cell_type": "code",
   "execution_count": 20,
   "metadata": {},
   "outputs": [],
   "source": [
    "#Create new List of object columns\n",
    "object_col = list(crash_df.select_dtypes(include=['object']).columns)"
   ]
  },
  {
   "cell_type": "code",
   "execution_count": 21,
   "metadata": {},
   "outputs": [
    {
     "name": "stdout",
     "output_type": "stream",
     "text": [
      "WEATHER_CONDITION: 0\n",
      "LIGHTING_CONDITION: 0\n",
      "FIRST_CRASH_TYPE: 0\n",
      "TRAFFICWAY_TYPE: 0\n",
      "ALIGNMENT: 0\n",
      "ROADWAY_SURFACE_COND: 0\n",
      "ROAD_DEFECT: 0\n",
      "CRASH_TYPE: 0\n",
      "INTERSECTION_RELATED_I: 0\n",
      "NOT_RIGHT_OF_WAY_I: 0\n",
      "HIT_AND_RUN_I: 0\n",
      "PRIM_CONTRIBUTORY_CAUSE: 0\n",
      "SEC_CONTRIBUTORY_CAUSE: 0\n",
      "STATEMENTS_TAKEN_I: 0\n",
      "WORK_ZONE_TYPE: 0\n",
      "SEX: 0\n",
      "AIRBAG_DEPLOYED: 0\n",
      "EJECTION: 0\n",
      "INJURY_CLASSIFICATION: 0\n",
      "DRIVER_ACTION: 0\n",
      "DRIVER_VISION: 0\n",
      "PEDPEDAL_VISIBILITY: 0\n",
      "BAC_RESULT: 0\n",
      "CELL_PHONE_USE: 0\n"
     ]
    }
   ],
   "source": [
    "# Double check Nulls\n",
    "for col in object_col:\n",
    "    nulls = crash_df[col].isna().sum()\n",
    "    print(f'{col}: {nulls}')"
   ]
  },
  {
   "cell_type": "markdown",
   "metadata": {},
   "source": [
    "### Number Null Values"
   ]
  },
  {
   "cell_type": "code",
   "execution_count": 22,
   "metadata": {},
   "outputs": [
    {
     "data": {
      "text/plain": [
       "(442956, 34)"
      ]
     },
     "execution_count": 22,
     "metadata": {},
     "output_type": "execute_result"
    }
   ],
   "source": [
    "# Check shape\n",
    "crash_df.shape\n"
   ]
  },
  {
   "cell_type": "code",
   "execution_count": 23,
   "metadata": {},
   "outputs": [
    {
     "data": {
      "text/plain": [
       "['POSTED_SPEED_LIMIT',\n",
       " 'LANE_CNT',\n",
       " 'BEAT_OF_OCCURRENCE',\n",
       " 'NUM_UNITS',\n",
       " 'INJURIES_TOTAL',\n",
       " 'CRASH_HOUR',\n",
       " 'CRASH_DAY_OF_WEEK',\n",
       " 'CRASH_MONTH',\n",
       " 'AGE',\n",
       " 'BAC_RESULT VALUE']"
      ]
     },
     "execution_count": 23,
     "metadata": {},
     "output_type": "execute_result"
    }
   ],
   "source": [
    "# Make a list of numerical columns\n",
    "num_col = list(crash_df.select_dtypes(include=['int64','float64']).columns)\n",
    "num_col"
   ]
  },
  {
   "cell_type": "code",
   "execution_count": 24,
   "metadata": {},
   "outputs": [
    {
     "name": "stdout",
     "output_type": "stream",
     "text": [
      "POSTED_SPEED_LIMIT: 0\n",
      "LANE_CNT: 243997\n",
      "BEAT_OF_OCCURRENCE: 5\n",
      "NUM_UNITS: 0\n",
      "INJURIES_TOTAL: 873\n",
      "CRASH_HOUR: 0\n",
      "CRASH_DAY_OF_WEEK: 0\n",
      "CRASH_MONTH: 0\n",
      "AGE: 172012\n",
      "BAC_RESULT VALUE: 441799\n"
     ]
    }
   ],
   "source": [
    "# Check for nulls in num_col\n",
    "for col in num_col:\n",
    "    nulls = crash_df[col].isna().sum()\n",
    "    print(f'{col}: {nulls}')\n"
   ]
  },
  {
   "cell_type": "code",
   "execution_count": 25,
   "metadata": {},
   "outputs": [
    {
     "data": {
      "text/plain": [
       "2.0          91135\n",
       "4.0          49577\n",
       "1.0          32541\n",
       "3.0           8672\n",
       "0.0           8029\n",
       "6.0           4500\n",
       "5.0           1938\n",
       "8.0           1906\n",
       "7.0            184\n",
       "10.0           162\n",
       "99.0           108\n",
       "9.0             66\n",
       "11.0            30\n",
       "12.0            29\n",
       "20.0            15\n",
       "22.0            13\n",
       "16.0             7\n",
       "15.0             7\n",
       "14.0             5\n",
       "30.0             5\n",
       "40.0             4\n",
       "21.0             3\n",
       "60.0             3\n",
       "25.0             2\n",
       "100.0            2\n",
       "45.0             1\n",
       "218474.0         1\n",
       "80.0             1\n",
       "902.0            1\n",
       "400.0            1\n",
       "17.0             1\n",
       "35.0             1\n",
       "1191625.0        1\n",
       "44.0             1\n",
       "299679.0         1\n",
       "19.0             1\n",
       "28.0             1\n",
       "433634.0         1\n",
       "13.0             1\n",
       "41.0             1\n",
       "24.0             1\n",
       "Name: LANE_CNT, dtype: int64"
      ]
     },
     "execution_count": 25,
     "metadata": {},
     "output_type": "execute_result"
    }
   ],
   "source": [
    "# Check Lane count\n",
    "crash_df['LANE_CNT'].value_counts()"
   ]
  },
  {
   "cell_type": "markdown",
   "metadata": {},
   "source": [
    "Any lane count over 12 is unlikely a correct lane count. With this large of a dataframe, we can drop the rows over 12.\n"
   ]
  },
  {
   "cell_type": "code",
   "execution_count": 26,
   "metadata": {},
   "outputs": [
    {
     "name": "stdout",
     "output_type": "stream",
     "text": [
      "df shape: (442766, 34)\n"
     ]
    },
    {
     "data": {
      "text/plain": [
       "2.0     91135\n",
       "4.0     49577\n",
       "1.0     32541\n",
       "3.0      8672\n",
       "0.0      8029\n",
       "6.0      4500\n",
       "5.0      1938\n",
       "8.0      1906\n",
       "7.0       184\n",
       "10.0      162\n",
       "9.0        66\n",
       "11.0       30\n",
       "12.0       29\n",
       "Name: LANE_CNT, dtype: int64"
      ]
     },
     "execution_count": 26,
     "metadata": {},
     "output_type": "execute_result"
    }
   ],
   "source": [
    "# Get indexes where name column has value john\n",
    "indexNames = crash_df[crash_df['LANE_CNT'] > 12].index\n",
    " \n",
    "# Delete these row indexes from dataFrame\n",
    "crash_df.drop(indexNames , inplace=True)\n",
    "# crash_df['LANE_CNT'] = crash_df['LANE_CNT'].apply(lambda x: \n",
    "#                                                   x if x < 13 else 0)\n",
    "\n",
    "# Check \n",
    "print(f'df shape: {crash_df.shape}')\n",
    "crash_df['LANE_CNT'].value_counts()"
   ]
  },
  {
   "cell_type": "code",
   "execution_count": 27,
   "metadata": {},
   "outputs": [
    {
     "data": {
      "text/plain": [
       "0"
      ]
     },
     "execution_count": 27,
     "metadata": {},
     "output_type": "execute_result"
    }
   ],
   "source": [
    "# Fill nulls\n",
    "crash_df['LANE_CNT'].fillna(crash_df[\"LANE_CNT\"].mean(), inplace=True)\n",
    "crash_df['LANE_CNT'].isna().sum()"
   ]
  },
  {
   "cell_type": "code",
   "execution_count": 28,
   "metadata": {},
   "outputs": [
    {
     "name": "stdout",
     "output_type": "stream",
     "text": [
      "INJURIES_TOTAL: 0\n",
      "BAC_RESULT VALUE: 0\n"
     ]
    }
   ],
   "source": [
    "# Deal with the null values in the injury columns\n",
    "\n",
    "fill_zero = ['INJURIES_TOTAL', 'BAC_RESULT VALUE']\n",
    "\n",
    "for col in fill_zero:\n",
    "    crash_df[col].fillna(0, inplace = True) \n",
    "    is_na = crash_df[col].isna().sum()\n",
    "    print(f'{col}: {is_na}')"
   ]
  },
  {
   "cell_type": "code",
   "execution_count": 29,
   "metadata": {},
   "outputs": [
    {
     "data": {
      "text/plain": [
       "count    270853.000000\n",
       "mean         39.181914\n",
       "std          16.508515\n",
       "min         -49.000000\n",
       "25%          26.000000\n",
       "50%          36.000000\n",
       "75%          51.000000\n",
       "max         110.000000\n",
       "Name: AGE, dtype: float64"
      ]
     },
     "execution_count": 29,
     "metadata": {},
     "output_type": "execute_result"
    }
   ],
   "source": [
    "# Examine Age column\n",
    "crash_df['AGE'].describe()"
   ]
  },
  {
   "cell_type": "code",
   "execution_count": 30,
   "metadata": {},
   "outputs": [
    {
     "data": {
      "text/plain": [
       "array([ 33.,  28.,  20.,  45.,  27.,  32.,  44.,  56.,  51.,  83.,  nan,\n",
       "        30.,  40.,  21.,  42.,  37.,  57.,  24.,  18.,  25.,  47.,  53.,\n",
       "        73.,  79.,  78.,  34.,  26.,  38.,  55.,  60.,  23.,  49.,  48.,\n",
       "        70.,  46.,  41.,  39.,  58.,  84.,  22.,  63.,  31.,  61.,  35.,\n",
       "        43.,  59.,  65.,  82.,  36.,  15.,  66.,  85.,   0.,  17.,  16.,\n",
       "        29.,  71.,  62.,  64.,  67.,  52.,  69.,  68.,  76.,   4.,  54.,\n",
       "        19.,  50.,  81.,   2.,  77.,  89.,  90.,  72.,  75.,  74.,  80.,\n",
       "        88.,  86.,  87.,  93.,  91.,  10.,   9.,  13.,   3.,  14.,   5.,\n",
       "        92.,  12.,   8., 102.,  94.,   1.,   6.,  11., 103.,   7.,  95.,\n",
       "        97.,  99., 107.,  96., 100.,  98., -47.,  -1., -49., 109., 110.,\n",
       "       104., 101., 108.])"
      ]
     },
     "execution_count": 30,
     "metadata": {},
     "output_type": "execute_result"
    }
   ],
   "source": [
    "crash_df['AGE'].unique()"
   ]
  },
  {
   "cell_type": "code",
   "execution_count": 31,
   "metadata": {},
   "outputs": [],
   "source": [
    "# Replace nonsensical age with mean\n",
    "\n",
    "crash_df.loc[crash_df['AGE'] > 100, 'AGE'] = 38\n",
    "crash_df.loc[crash_df['AGE'] < 0, 'AGE'] = 38"
   ]
  },
  {
   "cell_type": "code",
   "execution_count": 32,
   "metadata": {},
   "outputs": [],
   "source": [
    "crash_df['AGE'].fillna(crash_df[\"AGE\"].mean(), inplace=True)"
   ]
  },
  {
   "cell_type": "code",
   "execution_count": 33,
   "metadata": {},
   "outputs": [
    {
     "name": "stdout",
     "output_type": "stream",
     "text": [
      "BEAT_OF_OCCURRENCE: 0\n"
     ]
    }
   ],
   "source": [
    "# fill nulls of BEAT_OF_OCCURRENCE, LATITUDE, and LONGITUDE with mode\n",
    "\n",
    "fill_mode = ['BEAT_OF_OCCURRENCE']\n",
    "for col in fill_mode:\n",
    "    crash_df[col].fillna(crash_df[col].mode()[0], inplace=True)\n",
    "    print(f'{col}: {is_na}')\n"
   ]
  },
  {
   "cell_type": "code",
   "execution_count": 34,
   "metadata": {},
   "outputs": [
    {
     "name": "stdout",
     "output_type": "stream",
     "text": [
      "POSTED_SPEED_LIMIT: 0\n",
      "LANE_CNT: 0\n",
      "BEAT_OF_OCCURRENCE: 0\n",
      "NUM_UNITS: 0\n",
      "INJURIES_TOTAL: 0\n",
      "CRASH_HOUR: 0\n",
      "CRASH_DAY_OF_WEEK: 0\n",
      "CRASH_MONTH: 0\n",
      "AGE: 0\n",
      "BAC_RESULT VALUE: 0\n"
     ]
    }
   ],
   "source": [
    "# Double check for nulls\n",
    "for col in num_col:\n",
    "    nulls = crash_df[col].isna().sum()\n",
    "    print(f'{col}: {nulls}')"
   ]
  },
  {
   "cell_type": "markdown",
   "metadata": {},
   "source": [
    "### Exploring the Data"
   ]
  },
  {
   "cell_type": "markdown",
   "metadata": {},
   "source": [
    "#### Graphing Functions"
   ]
  },
  {
   "cell_type": "code",
   "execution_count": 35,
   "metadata": {},
   "outputs": [],
   "source": [
    "# Function to graph bar chart\n",
    "def bar_plot(col, target, df):\n",
    "    \"\"\"Creates bar plot against target variable and saves plot as png\n",
    "    to figures folder\"\"\"\n",
    "    ax = sns.barplot(y=df[target], x= df[col], orient='h', data=df)\n",
    "    ax.set_title(f\"{col} vs {target}\")\n",
    "\n",
    "    # Save image as png\n",
    "    plt.savefig(f'figures/bar_{col}_v_{target}.png', transparent=True, bbox_inches='tight');"
   ]
  },
  {
   "cell_type": "code",
   "execution_count": 36,
   "metadata": {},
   "outputs": [],
   "source": [
    "# Function to graph a count plot\n",
    "def count_plot(df,col):\n",
    "    \"\"\"Creates boxplot of a column and saves plot as png to figures folder\"\"\"\n",
    "    ax = sns.countplot(x=df[col], data=df)\n",
    "    ax.set_title(f\"{col}\")\n",
    "    plt.xticks(rotation=270)\n",
    "    \n",
    "    # Save image as png\n",
    "    plt.savefig(f'figures/count_{col}.png', transparent=True, bbox_inches='tight');"
   ]
  },
  {
   "cell_type": "code",
   "execution_count": 37,
   "metadata": {},
   "outputs": [],
   "source": [
    "def scatter_plot(col,target,df):\n",
    "    \"\"\"Creates a scatterplot of a column against target variable with a hue of\n",
    "    crash type and saves plot to figures folder.\"\"\"\n",
    "    \n",
    "    ax = sns.scatterplot(data=df, x=df[col], y=df[target])\n",
    "    ax.set_title(f\"{col} v {target}\")\n",
    "     # Save image as png\n",
    "    plt.savefig(f'figures/scatter_{col}_v_{target}.png', transparent=True, bbox_inches='tight');"
   ]
  },
  {
   "cell_type": "markdown",
   "metadata": {},
   "source": [
    "#### Categorical Graphs"
   ]
  },
  {
   "cell_type": "code",
   "execution_count": 38,
   "metadata": {},
   "outputs": [],
   "source": [
    "# import necessarry things fir\n",
    "import matplotlib.pyplot as plt\n",
    "import seaborn as sns\n",
    "import numpy as np\n",
    "import scipy.stats as stats\n",
    "import six\n",
    "%matplotlib inline"
   ]
  },
  {
   "cell_type": "code",
   "execution_count": null,
   "metadata": {},
   "outputs": [],
   "source": [
    "# Count plots to see distribution of object columns\n",
    "for i in range(len(object_col)):\n",
    "    plt.figure()\n",
    "    count_plot(crash_df, object_col[i])\n",
    "    # Show/save figure as desired.\n",
    "    plt.show();\n"
   ]
  },
  {
   "cell_type": "markdown",
   "metadata": {},
   "source": [
    "#### One-Hot Encode and LabelEncode"
   ]
  },
  {
   "cell_type": "code",
   "execution_count": 39,
   "metadata": {},
   "outputs": [],
   "source": [
    "# Copy df to make all changes to it instead of original\n",
    "encode_df = crash_df.copy()\n",
    "\n",
    "feats = ['DRIVER_ACTION']"
   ]
  },
  {
   "cell_type": "code",
   "execution_count": 40,
   "metadata": {},
   "outputs": [
    {
     "name": "stdout",
     "output_type": "stream",
     "text": [
      "<class 'pandas.core.frame.DataFrame'>\n",
      "Int64Index: 442766 entries, 0 to 983409\n",
      "Data columns (total 52 columns):\n",
      " #   Column                                     Non-Null Count   Dtype  \n",
      "---  ------                                     --------------   -----  \n",
      " 0   POSTED_SPEED_LIMIT                         442766 non-null  int64  \n",
      " 1   WEATHER_CONDITION                          442766 non-null  object \n",
      " 2   LIGHTING_CONDITION                         442766 non-null  object \n",
      " 3   FIRST_CRASH_TYPE                           442766 non-null  object \n",
      " 4   TRAFFICWAY_TYPE                            442766 non-null  object \n",
      " 5   LANE_CNT                                   442766 non-null  float64\n",
      " 6   ALIGNMENT                                  442766 non-null  object \n",
      " 7   ROADWAY_SURFACE_COND                       442766 non-null  object \n",
      " 8   ROAD_DEFECT                                442766 non-null  object \n",
      " 9   CRASH_TYPE                                 442766 non-null  object \n",
      " 10  INTERSECTION_RELATED_I                     442766 non-null  object \n",
      " 11  NOT_RIGHT_OF_WAY_I                         442766 non-null  object \n",
      " 12  HIT_AND_RUN_I                              442766 non-null  object \n",
      " 13  PRIM_CONTRIBUTORY_CAUSE                    442766 non-null  object \n",
      " 14  SEC_CONTRIBUTORY_CAUSE                     442766 non-null  object \n",
      " 15  BEAT_OF_OCCURRENCE                         442766 non-null  float64\n",
      " 16  STATEMENTS_TAKEN_I                         442766 non-null  object \n",
      " 17  WORK_ZONE_TYPE                             442766 non-null  object \n",
      " 18  NUM_UNITS                                  442766 non-null  int64  \n",
      " 19  INJURIES_TOTAL                             442766 non-null  float64\n",
      " 20  CRASH_HOUR                                 442766 non-null  int64  \n",
      " 21  CRASH_DAY_OF_WEEK                          442766 non-null  int64  \n",
      " 22  CRASH_MONTH                                442766 non-null  int64  \n",
      " 23  SEX                                        442766 non-null  object \n",
      " 24  AGE                                        442766 non-null  float64\n",
      " 25  AIRBAG_DEPLOYED                            442766 non-null  object \n",
      " 26  EJECTION                                   442766 non-null  object \n",
      " 27  INJURY_CLASSIFICATION                      442766 non-null  object \n",
      " 28  DRIVER_VISION                              442766 non-null  object \n",
      " 29  PEDPEDAL_VISIBILITY                        442766 non-null  object \n",
      " 30  BAC_RESULT                                 442766 non-null  object \n",
      " 31  BAC_RESULT VALUE                           442766 non-null  float64\n",
      " 32  CELL_PHONE_USE                             442766 non-null  object \n",
      " 33  DRIVER_ACTION_DISREGARDED CONTROL DEVICES  442766 non-null  uint8  \n",
      " 34  DRIVER_ACTION_EMERGENCY VEHICLE ON CALL    442766 non-null  uint8  \n",
      " 35  DRIVER_ACTION_EVADING POLICE VEHICLE       442766 non-null  uint8  \n",
      " 36  DRIVER_ACTION_FAILED TO YIELD              442766 non-null  uint8  \n",
      " 37  DRIVER_ACTION_FOLLOWED TOO CLOSELY         442766 non-null  uint8  \n",
      " 38  DRIVER_ACTION_IMPROPER BACKING             442766 non-null  uint8  \n",
      " 39  DRIVER_ACTION_IMPROPER LANE CHANGE         442766 non-null  uint8  \n",
      " 40  DRIVER_ACTION_IMPROPER PARKING             442766 non-null  uint8  \n",
      " 41  DRIVER_ACTION_IMPROPER PASSING             442766 non-null  uint8  \n",
      " 42  DRIVER_ACTION_IMPROPER TURN                442766 non-null  uint8  \n",
      " 43  DRIVER_ACTION_LICENSE RESTRICTIONS         442766 non-null  uint8  \n",
      " 44  DRIVER_ACTION_NONE                         442766 non-null  uint8  \n",
      " 45  DRIVER_ACTION_OTHER                        442766 non-null  uint8  \n",
      " 46  DRIVER_ACTION_OVERCORRECTED                442766 non-null  uint8  \n",
      " 47  DRIVER_ACTION_STOPPED SCHOOL BUS           442766 non-null  uint8  \n",
      " 48  DRIVER_ACTION_TEXTING                      442766 non-null  uint8  \n",
      " 49  DRIVER_ACTION_TOO FAST FOR CONDITIONS      442766 non-null  uint8  \n",
      " 50  DRIVER_ACTION_UNKNOWN                      442766 non-null  uint8  \n",
      " 51  DRIVER_ACTION_WRONG WAY/SIDE               442766 non-null  uint8  \n",
      "dtypes: float64(5), int64(5), object(23), uint8(19)\n",
      "memory usage: 122.9+ MB\n"
     ]
    }
   ],
   "source": [
    "encode_df = pd.get_dummies(crash_df, drop_first=True, columns=feats)\n",
    "encode_df.info()"
   ]
  },
  {
   "cell_type": "code",
   "execution_count": 41,
   "metadata": {},
   "outputs": [],
   "source": [
    "# Rename target to avois issues saving data\n",
    "# remove special character \n",
    "encode_df.columns = encode_df.columns.str.replace(' ', '_') \n",
    "encode_df.columns = encode_df.columns.str.replace('/', '_')\n",
    "encode_df.columns = encode_df.columns.str.replace('DRIVER_ACTION_', '')\n",
    "\n"
   ]
  },
  {
   "cell_type": "code",
   "execution_count": 42,
   "metadata": {},
   "outputs": [
    {
     "data": {
      "text/plain": [
       "['WEATHER_CONDITION',\n",
       " 'LIGHTING_CONDITION',\n",
       " 'FIRST_CRASH_TYPE',\n",
       " 'TRAFFICWAY_TYPE',\n",
       " 'ALIGNMENT',\n",
       " 'ROADWAY_SURFACE_COND',\n",
       " 'ROAD_DEFECT',\n",
       " 'CRASH_TYPE',\n",
       " 'INTERSECTION_RELATED_I',\n",
       " 'NOT_RIGHT_OF_WAY_I',\n",
       " 'HIT_AND_RUN_I',\n",
       " 'PRIM_CONTRIBUTORY_CAUSE',\n",
       " 'SEC_CONTRIBUTORY_CAUSE',\n",
       " 'STATEMENTS_TAKEN_I',\n",
       " 'WORK_ZONE_TYPE',\n",
       " 'SEX',\n",
       " 'AIRBAG_DEPLOYED',\n",
       " 'EJECTION',\n",
       " 'INJURY_CLASSIFICATION',\n",
       " 'DRIVER_VISION',\n",
       " 'PEDPEDAL_VISIBILITY',\n",
       " 'BAC_RESULT',\n",
       " 'CELL_PHONE_USE']"
      ]
     },
     "execution_count": 42,
     "metadata": {},
     "output_type": "execute_result"
    }
   ],
   "source": [
    "object_col.remove('DRIVER_ACTION')\n",
    "object_col"
   ]
  },
  {
   "cell_type": "code",
   "execution_count": 43,
   "metadata": {},
   "outputs": [
    {
     "data": {
      "text/html": [
       "<div>\n",
       "<style scoped>\n",
       "    .dataframe tbody tr th:only-of-type {\n",
       "        vertical-align: middle;\n",
       "    }\n",
       "\n",
       "    .dataframe tbody tr th {\n",
       "        vertical-align: top;\n",
       "    }\n",
       "\n",
       "    .dataframe thead th {\n",
       "        text-align: right;\n",
       "    }\n",
       "</style>\n",
       "<table border=\"1\" class=\"dataframe\">\n",
       "  <thead>\n",
       "    <tr style=\"text-align: right;\">\n",
       "      <th></th>\n",
       "      <th>POSTED_SPEED_LIMIT</th>\n",
       "      <th>WEATHER_CONDITION</th>\n",
       "      <th>LIGHTING_CONDITION</th>\n",
       "      <th>FIRST_CRASH_TYPE</th>\n",
       "      <th>TRAFFICWAY_TYPE</th>\n",
       "      <th>LANE_CNT</th>\n",
       "      <th>ALIGNMENT</th>\n",
       "      <th>ROADWAY_SURFACE_COND</th>\n",
       "      <th>ROAD_DEFECT</th>\n",
       "      <th>CRASH_TYPE</th>\n",
       "      <th>...</th>\n",
       "      <th>IMPROPER_TURN</th>\n",
       "      <th>LICENSE_RESTRICTIONS</th>\n",
       "      <th>NONE</th>\n",
       "      <th>OTHER</th>\n",
       "      <th>OVERCORRECTED</th>\n",
       "      <th>STOPPED_SCHOOL_BUS</th>\n",
       "      <th>TEXTING</th>\n",
       "      <th>TOO_FAST_FOR_CONDITIONS</th>\n",
       "      <th>UNKNOWN</th>\n",
       "      <th>WRONG_WAY_SIDE</th>\n",
       "    </tr>\n",
       "  </thead>\n",
       "  <tbody>\n",
       "    <tr>\n",
       "      <th>0</th>\n",
       "      <td>10</td>\n",
       "      <td>2</td>\n",
       "      <td>0</td>\n",
       "      <td>7</td>\n",
       "      <td>11</td>\n",
       "      <td>2.491601</td>\n",
       "      <td>3</td>\n",
       "      <td>0</td>\n",
       "      <td>1</td>\n",
       "      <td>1</td>\n",
       "      <td>...</td>\n",
       "      <td>0</td>\n",
       "      <td>0</td>\n",
       "      <td>1</td>\n",
       "      <td>0</td>\n",
       "      <td>0</td>\n",
       "      <td>0</td>\n",
       "      <td>0</td>\n",
       "      <td>0</td>\n",
       "      <td>0</td>\n",
       "      <td>0</td>\n",
       "    </tr>\n",
       "    <tr>\n",
       "      <th>1</th>\n",
       "      <td>45</td>\n",
       "      <td>2</td>\n",
       "      <td>3</td>\n",
       "      <td>15</td>\n",
       "      <td>10</td>\n",
       "      <td>2.491601</td>\n",
       "      <td>3</td>\n",
       "      <td>0</td>\n",
       "      <td>1</td>\n",
       "      <td>1</td>\n",
       "      <td>...</td>\n",
       "      <td>0</td>\n",
       "      <td>0</td>\n",
       "      <td>0</td>\n",
       "      <td>0</td>\n",
       "      <td>0</td>\n",
       "      <td>0</td>\n",
       "      <td>0</td>\n",
       "      <td>0</td>\n",
       "      <td>1</td>\n",
       "      <td>0</td>\n",
       "    </tr>\n",
       "    <tr>\n",
       "      <th>3</th>\n",
       "      <td>35</td>\n",
       "      <td>2</td>\n",
       "      <td>3</td>\n",
       "      <td>17</td>\n",
       "      <td>8</td>\n",
       "      <td>4.000000</td>\n",
       "      <td>3</td>\n",
       "      <td>0</td>\n",
       "      <td>1</td>\n",
       "      <td>0</td>\n",
       "      <td>...</td>\n",
       "      <td>0</td>\n",
       "      <td>0</td>\n",
       "      <td>0</td>\n",
       "      <td>0</td>\n",
       "      <td>0</td>\n",
       "      <td>0</td>\n",
       "      <td>0</td>\n",
       "      <td>0</td>\n",
       "      <td>0</td>\n",
       "      <td>0</td>\n",
       "    </tr>\n",
       "    <tr>\n",
       "      <th>6</th>\n",
       "      <td>30</td>\n",
       "      <td>2</td>\n",
       "      <td>1</td>\n",
       "      <td>17</td>\n",
       "      <td>8</td>\n",
       "      <td>4.000000</td>\n",
       "      <td>3</td>\n",
       "      <td>0</td>\n",
       "      <td>1</td>\n",
       "      <td>1</td>\n",
       "      <td>...</td>\n",
       "      <td>0</td>\n",
       "      <td>0</td>\n",
       "      <td>0</td>\n",
       "      <td>0</td>\n",
       "      <td>0</td>\n",
       "      <td>0</td>\n",
       "      <td>0</td>\n",
       "      <td>0</td>\n",
       "      <td>1</td>\n",
       "      <td>0</td>\n",
       "    </tr>\n",
       "    <tr>\n",
       "      <th>8</th>\n",
       "      <td>35</td>\n",
       "      <td>2</td>\n",
       "      <td>3</td>\n",
       "      <td>7</td>\n",
       "      <td>8</td>\n",
       "      <td>2.491601</td>\n",
       "      <td>3</td>\n",
       "      <td>0</td>\n",
       "      <td>1</td>\n",
       "      <td>1</td>\n",
       "      <td>...</td>\n",
       "      <td>0</td>\n",
       "      <td>0</td>\n",
       "      <td>1</td>\n",
       "      <td>0</td>\n",
       "      <td>0</td>\n",
       "      <td>0</td>\n",
       "      <td>0</td>\n",
       "      <td>0</td>\n",
       "      <td>0</td>\n",
       "      <td>0</td>\n",
       "    </tr>\n",
       "  </tbody>\n",
       "</table>\n",
       "<p>5 rows × 52 columns</p>\n",
       "</div>"
      ],
      "text/plain": [
       "   POSTED_SPEED_LIMIT  WEATHER_CONDITION  LIGHTING_CONDITION  \\\n",
       "0                  10                  2                   0   \n",
       "1                  45                  2                   3   \n",
       "3                  35                  2                   3   \n",
       "6                  30                  2                   1   \n",
       "8                  35                  2                   3   \n",
       "\n",
       "   FIRST_CRASH_TYPE  TRAFFICWAY_TYPE  LANE_CNT  ALIGNMENT  \\\n",
       "0                 7               11  2.491601          3   \n",
       "1                15               10  2.491601          3   \n",
       "3                17                8  4.000000          3   \n",
       "6                17                8  4.000000          3   \n",
       "8                 7                8  2.491601          3   \n",
       "\n",
       "   ROADWAY_SURFACE_COND  ROAD_DEFECT  CRASH_TYPE  ...  IMPROPER_TURN  \\\n",
       "0                     0            1           1  ...              0   \n",
       "1                     0            1           1  ...              0   \n",
       "3                     0            1           0  ...              0   \n",
       "6                     0            1           1  ...              0   \n",
       "8                     0            1           1  ...              0   \n",
       "\n",
       "   LICENSE_RESTRICTIONS  NONE  OTHER  OVERCORRECTED  STOPPED_SCHOOL_BUS  \\\n",
       "0                     0     1      0              0                   0   \n",
       "1                     0     0      0              0                   0   \n",
       "3                     0     0      0              0                   0   \n",
       "6                     0     0      0              0                   0   \n",
       "8                     0     1      0              0                   0   \n",
       "\n",
       "   TEXTING  TOO_FAST_FOR_CONDITIONS  UNKNOWN  WRONG_WAY_SIDE  \n",
       "0        0                        0        0               0  \n",
       "1        0                        0        1               0  \n",
       "3        0                        0        0               0  \n",
       "6        0                        0        1               0  \n",
       "8        0                        0        0               0  \n",
       "\n",
       "[5 rows x 52 columns]"
      ]
     },
     "execution_count": 43,
     "metadata": {},
     "output_type": "execute_result"
    }
   ],
   "source": [
    "# LabelEncode Feature Columns onto a new df to examine against our target\n",
    "from sklearn.preprocessing import LabelEncoder\n",
    "\n",
    "# creating instance of labelencoder\n",
    "labelencoder = LabelEncoder()\n",
    "\n",
    "# Using for loop to loop through object_col and Assign numerical values \n",
    "# and storing in another column\n",
    "for col in object_col:\n",
    "    encode_df[col] = labelencoder.fit_transform(encode_df[col])\n",
    "\n",
    "encode_df.head()"
   ]
  },
  {
   "cell_type": "code",
   "execution_count": 44,
   "metadata": {},
   "outputs": [
    {
     "data": {
      "text/plain": [
       "['POSTED_SPEED_LIMIT',\n",
       " 'WEATHER_CONDITION',\n",
       " 'LIGHTING_CONDITION',\n",
       " 'FIRST_CRASH_TYPE',\n",
       " 'TRAFFICWAY_TYPE',\n",
       " 'LANE_CNT',\n",
       " 'ALIGNMENT',\n",
       " 'ROADWAY_SURFACE_COND',\n",
       " 'ROAD_DEFECT',\n",
       " 'CRASH_TYPE',\n",
       " 'INTERSECTION_RELATED_I',\n",
       " 'NOT_RIGHT_OF_WAY_I',\n",
       " 'HIT_AND_RUN_I',\n",
       " 'PRIM_CONTRIBUTORY_CAUSE',\n",
       " 'SEC_CONTRIBUTORY_CAUSE',\n",
       " 'BEAT_OF_OCCURRENCE',\n",
       " 'STATEMENTS_TAKEN_I',\n",
       " 'WORK_ZONE_TYPE',\n",
       " 'NUM_UNITS',\n",
       " 'INJURIES_TOTAL',\n",
       " 'CRASH_HOUR',\n",
       " 'CRASH_DAY_OF_WEEK',\n",
       " 'CRASH_MONTH',\n",
       " 'SEX',\n",
       " 'AGE',\n",
       " 'AIRBAG_DEPLOYED',\n",
       " 'EJECTION',\n",
       " 'INJURY_CLASSIFICATION',\n",
       " 'DRIVER_VISION',\n",
       " 'PEDPEDAL_VISIBILITY',\n",
       " 'BAC_RESULT',\n",
       " 'BAC_RESULT_VALUE',\n",
       " 'CELL_PHONE_USE',\n",
       " 'DISREGARDED_CONTROL_DEVICES',\n",
       " 'EMERGENCY_VEHICLE_ON_CALL',\n",
       " 'EVADING_POLICE_VEHICLE',\n",
       " 'FAILED_TO_YIELD',\n",
       " 'FOLLOWED_TOO_CLOSELY',\n",
       " 'IMPROPER_BACKING',\n",
       " 'IMPROPER_LANE_CHANGE',\n",
       " 'IMPROPER_PARKING',\n",
       " 'IMPROPER_PASSING',\n",
       " 'IMPROPER_TURN',\n",
       " 'LICENSE_RESTRICTIONS',\n",
       " 'NONE',\n",
       " 'OTHER',\n",
       " 'OVERCORRECTED',\n",
       " 'STOPPED_SCHOOL_BUS',\n",
       " 'TEXTING',\n",
       " 'TOO_FAST_FOR_CONDITIONS',\n",
       " 'UNKNOWN',\n",
       " 'WRONG_WAY_SIDE']"
      ]
     },
     "execution_count": 44,
     "metadata": {},
     "output_type": "execute_result"
    }
   ],
   "source": [
    "list(encode_df.columns)"
   ]
  },
  {
   "cell_type": "markdown",
   "metadata": {},
   "source": [
    "#### Numerical Graphs"
   ]
  },
  {
   "cell_type": "code",
   "execution_count": 45,
   "metadata": {},
   "outputs": [
    {
     "data": {
      "image/png": "[encoded data removed]",
      "text/plain": [
       "<Figure size 2160x1440 with 56 Axes>"
      ]
     },
     "metadata": {
      "needs_background": "light"
     },
     "output_type": "display_data"
    }
   ],
   "source": [
    "# Histograms \n",
    "encode_df.hist(figsize = (30,20))\n",
    "plt.savefig('Figures/crash_df_hist.png', dpi=300, bbox_inches='tight');"
   ]
  },
  {
   "cell_type": "code",
   "execution_count": null,
   "metadata": {},
   "outputs": [],
   "source": [
    "# num_col = ['POSTED_SPEED_LIMIT', 'LANE_CNT', 'BEAT_OF_OCCURRENCE', 'NUM_UNITS', \n",
    "#            'INJURIES_TOTAL', 'CRASH_HOUR', 'CRASH_DAY_OF_WEEK', 'AGE','CRASH_MONTH',\n",
    "#            'BAC_RESULT VALUE']\n"
   ]
  },
  {
   "cell_type": "code",
   "execution_count": null,
   "metadata": {},
   "outputs": [],
   "source": [
    "feature_col = list(encode_df.select_dtypes(include=['int64','float64']).columns)\n",
    "feature_col"
   ]
  },
  {
   "cell_type": "code",
   "execution_count": null,
   "metadata": {
    "scrolled": false
   },
   "outputs": [],
   "source": [
    "target = 'FAILED_TO_YIELD'\n",
    "for i in range(len(feature_col)):\n",
    "    plt.figure()\n",
    "    bar_plot(target, feature_col[i], encode_df)\n",
    "    # Show/save figure as desired.\n",
    "    plt.show();"
   ]
  },
  {
   "cell_type": "code",
   "execution_count": null,
   "metadata": {},
   "outputs": [],
   "source": [
    "target = 'FAILED_TO_YIELD'\n",
    "# scatter plots against crash type\n",
    "for i in range(len(feature_col)):\n",
    "    plt.figure()\n",
    "    scatter_plot(target, feature_col[i], encode_df)\n",
    "    # Show/save figure as desired.\n",
    "    plt.show();"
   ]
  },
  {
   "cell_type": "code",
   "execution_count": 46,
   "metadata": {},
   "outputs": [
    {
     "data": {
      "text/plain": [
       "Index(['ANGLE', 'TURNING', 'SIDESWIPE SAME DIRECTION', 'REAR END',\n",
       "       'PEDESTRIAN', 'PARKED MOTOR VEHICLE', 'PEDALCYCLIST',\n",
       "       'SIDESWIPE OPPOSITE DIRECTION', 'HEAD ON', 'FIXED OBJECT',\n",
       "       'REAR TO SIDE', 'OTHER OBJECT', 'REAR TO FRONT', 'REAR TO REAR',\n",
       "       'ANIMAL', 'OTHER NONCOLLISION', 'OVERTURNED', 'TRAIN'],\n",
       "      dtype='object')"
      ]
     },
     "execution_count": 46,
     "metadata": {},
     "output_type": "execute_result"
    }
   ],
   "source": [
    "# Selecting the columns with only \"FAILED_TO_YEILD\" crashes\n",
    "fail_yield = crash_df[crash_df['DRIVER_ACTION'] == 'FAILED TO YIELD']\n",
    "fail_yield.CRASH_HOUR.value_counts().index\n",
    "fail_yield.FIRST_CRASH_TYPE.value_counts().index"
   ]
  },
  {
   "cell_type": "code",
   "execution_count": 47,
   "metadata": {},
   "outputs": [
    {
     "data": {
      "image/png": "[encoded data removed]",
      "text/plain": [
       "<Figure size 1080x1080 with 1 Axes>"
      ]
     },
     "metadata": {
      "needs_background": "light"
     },
     "output_type": "display_data"
    }
   ],
   "source": [
    "# Bar graph of the Crash Type\n",
    "\n",
    "plt.figure(figsize=(15,15))\n",
    "\n",
    "y= fail_yield.FIRST_CRASH_TYPE.value_counts().values\n",
    "x=fail_yield.FIRST_CRASH_TYPE.value_counts().index\n",
    "\n",
    "sns.barplot(y, x)\n",
    "plt.title('Fail to Yield First Crash Type', size=30)\n",
    "plt.ylabel(\"Crash Type\", size=25, rotation=90)\n",
    "plt.xlabel(\"Quantity\", size=25)\n",
    "plt.xticks(size=15)\n",
    "plt.yticks(size=15)\n",
    "\n",
    "plt.savefig('Figures/Fail_yield_first_crash.png', dpi=300, bbox_inches='tight');"
   ]
  },
  {
   "cell_type": "code",
   "execution_count": 48,
   "metadata": {},
   "outputs": [
    {
     "data": {
      "image/png": "[encoded data removed]",
      "text/plain": [
       "<Figure size 1080x1080 with 1 Axes>"
      ]
     },
     "metadata": {
      "needs_background": "light"
     },
     "output_type": "display_data"
    }
   ],
   "source": [
    "# Bar graph of the Crash Type\n",
    "\n",
    "plt.figure(figsize=(15,15))\n",
    "\n",
    "x= fail_yield.CRASH_HOUR.value_counts().values\n",
    "y=fail_yield.CRASH_HOUR.value_counts().index\n",
    "\n",
    "sns.barplot(y, x)\n",
    "plt.title('Fail to Yield CRASH HOUR', size=30)\n",
    "plt.ylabel(\"Quantity\", size=25, rotation=90)\n",
    "plt.xlabel(\"Hour\", size=25)\n",
    "plt.xticks(size=15)\n",
    "plt.yticks(size=15)\n",
    "\n",
    "plt.savefig('Figures/Fail_yield_crash_hour.png', dpi=300, bbox_inches='tight');"
   ]
  },
  {
   "cell_type": "code",
   "execution_count": 49,
   "metadata": {},
   "outputs": [
    {
     "data": {
      "image/png": "[encoded data removed]",
      "text/plain": [
       "<Figure size 1080x1080 with 1 Axes>"
      ]
     },
     "metadata": {
      "needs_background": "light"
     },
     "output_type": "display_data"
    }
   ],
   "source": [
    "# Bar graph of the Crash Type\n",
    "\n",
    "plt.figure(figsize=(15,15))\n",
    "\n",
    "x= fail_yield.DRIVER_VISION.value_counts().values\n",
    "y=fail_yield.DRIVER_VISION.value_counts().index\n",
    "\n",
    "sns.barplot(y, x)\n",
    "plt.title('Fail to Yield DRIVER VISION', size=30)\n",
    "plt.ylabel(\"Quantity\", size=25, rotation=90)\n",
    "plt.xlabel(\"\", size=25)\n",
    "plt.xticks(size=15, rotation=90)\n",
    "plt.yticks(size=15)\n",
    "\n",
    "plt.savefig('Figures/Fail_yield_driver_vision.png', dpi=300, bbox_inches='tight');"
   ]
  },
  {
   "cell_type": "markdown",
   "metadata": {},
   "source": [
    "## Models for Target: FAILED TO YIELD"
   ]
  },
  {
   "cell_type": "code",
   "execution_count": 50,
   "metadata": {},
   "outputs": [],
   "source": [
    "import time"
   ]
  },
  {
   "cell_type": "code",
   "execution_count": 51,
   "metadata": {},
   "outputs": [
    {
     "data": {
      "text/plain": [
       "0    377080\n",
       "1     65686\n",
       "Name: FAILED_TO_YIELD, dtype: int64"
      ]
     },
     "execution_count": 51,
     "metadata": {},
     "output_type": "execute_result"
    }
   ],
   "source": [
    "# set target and check make up\n",
    "target = encode_df['FAILED_TO_YIELD']\n",
    "target.value_counts()"
   ]
  },
  {
   "cell_type": "markdown",
   "metadata": {},
   "source": [
    "#### Functions"
   ]
  },
  {
   "cell_type": "code",
   "execution_count": 52,
   "metadata": {},
   "outputs": [],
   "source": [
    "# Function to print scores\n",
    "from sklearn.metrics import precision_score, recall_score, accuracy_score, f1_score, confusion_matrix\n",
    "def print_metrics(labels, preds, time):\n",
    "    \"\"\"input (labels, preds) and prints Precision score, Recall score,\n",
    "    Accuracy score, F1 score, and Confusion matrix\"\"\"\n",
    "    print(\"Precision Score: {}\".format(precision_score(labels, preds, average=None)))\n",
    "    print(\"Recall Score: {}\".format(recall_score(labels, preds, average=None)))\n",
    "    print(\"Accuracy Score: {}\".format(accuracy_score(labels, preds)))\n",
    "    print(\"F1 Score: {}\".format(f1_score(labels, preds, average=None)))\n",
    "    print(\"Confision Matrix: \\n{}\".format(confusion_matrix(labels, preds)))\n",
    "    print(\"\\n Run Time: {}\".format(time))"
   ]
  },
  {
   "cell_type": "code",
   "execution_count": 53,
   "metadata": {},
   "outputs": [],
   "source": [
    "def print_tree(dt, feature_name, save_file):\n",
    "    \"\"\"function to print and save the Decision Tree printout\"\"\"\n",
    "    dot_data = tree.export_graphviz(dt, \n",
    "                  feature_names=feature_name,    \n",
    "                  filled=True, rounded=True,  \n",
    "                  special_characters=True,\n",
    "                  out_file=None)\n",
    "            \n",
    "    graph = graphviz.Source(dot_data)\n",
    "\n",
    "    graph.format = \"png\"\n",
    "    graph.render(f'figures/{save_file}')\n",
    "    return graph.view()"
   ]
  },
  {
   "cell_type": "code",
   "execution_count": 54,
   "metadata": {},
   "outputs": [],
   "source": [
    "def plot_feature_importances(model):\n",
    "    \"\"\"Plots feature importance\"\"\"\n",
    "    n_features = X_train.shape[1]\n",
    "    plt.figure(figsize=(8,8))\n",
    "    plt.barh(range(n_features), model.feature_importances_, align='center') \n",
    "    plt.yticks(np.arange(n_features), X_train.columns.values) \n",
    "    plt.xlabel('Feature importance')\n",
    "    plt.ylabel('Feature')"
   ]
  },
  {
   "cell_type": "markdown",
   "metadata": {},
   "source": [
    "#### Train Test Split and scaling"
   ]
  },
  {
   "cell_type": "code",
   "execution_count": 55,
   "metadata": {},
   "outputs": [],
   "source": [
    "driver_action = ['DISREGARDED_CONTROL_DEVICES', 'EMERGENCY_VEHICLE_ON_CALL',\n",
    "                 'EVADING_POLICE_VEHICLE', 'FAILED_TO_YIELD', 'FOLLOWED_TOO_CLOSELY', \n",
    "                 'IMPROPER_BACKING', 'IMPROPER_LANE_CHANGE', 'IMPROPER_PARKING', \n",
    "                 'IMPROPER_PASSING', 'IMPROPER_TURN', 'LICENSE_RESTRICTIONS', \n",
    "                 'OVERCORRECTED', 'STOPPED_SCHOOL_BUS', 'UNKNOWN', 'NONE', 'OTHER',\n",
    "                 'TEXTING', 'TOO_FAST_FOR_CONDITIONS', 'WRONG_WAY_SIDE', \n",
    "                 'PRIM_CONTRIBUTORY_CAUSE']"
   ]
  },
  {
   "cell_type": "code",
   "execution_count": 56,
   "metadata": {},
   "outputs": [],
   "source": [
    "target = encode_df['FAILED_TO_YIELD'].astype(int)\n",
    "\n",
    "# drop target from df\n",
    "X = encode_df.drop(columns=driver_action, axis=1)\n"
   ]
  },
  {
   "cell_type": "code",
   "execution_count": 57,
   "metadata": {},
   "outputs": [],
   "source": [
    "# # Train Test Split function\n",
    "from sklearn.model_selection import train_test_split\n",
    "\n",
    "X_train, X_test, y_train, y_test = train_test_split(X, target, test_size=0.25, \n",
    "                                                    random_state=42)\n"
   ]
  },
  {
   "cell_type": "code",
   "execution_count": 58,
   "metadata": {},
   "outputs": [
    {
     "data": {
      "text/html": [
       "<div>\n",
       "<style scoped>\n",
       "    .dataframe tbody tr th:only-of-type {\n",
       "        vertical-align: middle;\n",
       "    }\n",
       "\n",
       "    .dataframe tbody tr th {\n",
       "        vertical-align: top;\n",
       "    }\n",
       "\n",
       "    .dataframe thead th {\n",
       "        text-align: right;\n",
       "    }\n",
       "</style>\n",
       "<table border=\"1\" class=\"dataframe\">\n",
       "  <thead>\n",
       "    <tr style=\"text-align: right;\">\n",
       "      <th></th>\n",
       "      <th>POSTED_SPEED_LIMIT</th>\n",
       "      <th>WEATHER_CONDITION</th>\n",
       "      <th>LIGHTING_CONDITION</th>\n",
       "      <th>FIRST_CRASH_TYPE</th>\n",
       "      <th>TRAFFICWAY_TYPE</th>\n",
       "      <th>LANE_CNT</th>\n",
       "      <th>ALIGNMENT</th>\n",
       "      <th>ROADWAY_SURFACE_COND</th>\n",
       "      <th>ROAD_DEFECT</th>\n",
       "      <th>CRASH_TYPE</th>\n",
       "      <th>...</th>\n",
       "      <th>SEX</th>\n",
       "      <th>AGE</th>\n",
       "      <th>AIRBAG_DEPLOYED</th>\n",
       "      <th>EJECTION</th>\n",
       "      <th>INJURY_CLASSIFICATION</th>\n",
       "      <th>DRIVER_VISION</th>\n",
       "      <th>PEDPEDAL_VISIBILITY</th>\n",
       "      <th>BAC_RESULT</th>\n",
       "      <th>BAC_RESULT_VALUE</th>\n",
       "      <th>CELL_PHONE_USE</th>\n",
       "    </tr>\n",
       "  </thead>\n",
       "  <tbody>\n",
       "    <tr>\n",
       "      <th>207432</th>\n",
       "      <td>30</td>\n",
       "      <td>2</td>\n",
       "      <td>3</td>\n",
       "      <td>10</td>\n",
       "      <td>2</td>\n",
       "      <td>2.491601</td>\n",
       "      <td>3</td>\n",
       "      <td>0</td>\n",
       "      <td>1</td>\n",
       "      <td>1</td>\n",
       "      <td>...</td>\n",
       "      <td>1</td>\n",
       "      <td>64.000000</td>\n",
       "      <td>5</td>\n",
       "      <td>0</td>\n",
       "      <td>2</td>\n",
       "      <td>7</td>\n",
       "      <td>4</td>\n",
       "      <td>0</td>\n",
       "      <td>0.0</td>\n",
       "      <td>0</td>\n",
       "    </tr>\n",
       "    <tr>\n",
       "      <th>964398</th>\n",
       "      <td>30</td>\n",
       "      <td>2</td>\n",
       "      <td>3</td>\n",
       "      <td>17</td>\n",
       "      <td>8</td>\n",
       "      <td>2.491601</td>\n",
       "      <td>3</td>\n",
       "      <td>0</td>\n",
       "      <td>1</td>\n",
       "      <td>0</td>\n",
       "      <td>...</td>\n",
       "      <td>1</td>\n",
       "      <td>41.000000</td>\n",
       "      <td>5</td>\n",
       "      <td>0</td>\n",
       "      <td>2</td>\n",
       "      <td>7</td>\n",
       "      <td>4</td>\n",
       "      <td>0</td>\n",
       "      <td>0.0</td>\n",
       "      <td>0</td>\n",
       "    </tr>\n",
       "    <tr>\n",
       "      <th>603029</th>\n",
       "      <td>30</td>\n",
       "      <td>2</td>\n",
       "      <td>3</td>\n",
       "      <td>0</td>\n",
       "      <td>8</td>\n",
       "      <td>2.491601</td>\n",
       "      <td>3</td>\n",
       "      <td>0</td>\n",
       "      <td>1</td>\n",
       "      <td>1</td>\n",
       "      <td>...</td>\n",
       "      <td>1</td>\n",
       "      <td>54.000000</td>\n",
       "      <td>6</td>\n",
       "      <td>0</td>\n",
       "      <td>2</td>\n",
       "      <td>12</td>\n",
       "      <td>4</td>\n",
       "      <td>0</td>\n",
       "      <td>0.0</td>\n",
       "      <td>0</td>\n",
       "    </tr>\n",
       "    <tr>\n",
       "      <th>113318</th>\n",
       "      <td>30</td>\n",
       "      <td>2</td>\n",
       "      <td>3</td>\n",
       "      <td>15</td>\n",
       "      <td>10</td>\n",
       "      <td>2.491601</td>\n",
       "      <td>3</td>\n",
       "      <td>0</td>\n",
       "      <td>5</td>\n",
       "      <td>1</td>\n",
       "      <td>...</td>\n",
       "      <td>0</td>\n",
       "      <td>39.179463</td>\n",
       "      <td>4</td>\n",
       "      <td>0</td>\n",
       "      <td>2</td>\n",
       "      <td>12</td>\n",
       "      <td>4</td>\n",
       "      <td>0</td>\n",
       "      <td>0.0</td>\n",
       "      <td>0</td>\n",
       "    </tr>\n",
       "    <tr>\n",
       "      <th>460035</th>\n",
       "      <td>30</td>\n",
       "      <td>2</td>\n",
       "      <td>1</td>\n",
       "      <td>9</td>\n",
       "      <td>3</td>\n",
       "      <td>4.000000</td>\n",
       "      <td>3</td>\n",
       "      <td>6</td>\n",
       "      <td>1</td>\n",
       "      <td>0</td>\n",
       "      <td>...</td>\n",
       "      <td>2</td>\n",
       "      <td>39.179463</td>\n",
       "      <td>4</td>\n",
       "      <td>0</td>\n",
       "      <td>2</td>\n",
       "      <td>12</td>\n",
       "      <td>4</td>\n",
       "      <td>0</td>\n",
       "      <td>0.0</td>\n",
       "      <td>0</td>\n",
       "    </tr>\n",
       "    <tr>\n",
       "      <th>...</th>\n",
       "      <td>...</td>\n",
       "      <td>...</td>\n",
       "      <td>...</td>\n",
       "      <td>...</td>\n",
       "      <td>...</td>\n",
       "      <td>...</td>\n",
       "      <td>...</td>\n",
       "      <td>...</td>\n",
       "      <td>...</td>\n",
       "      <td>...</td>\n",
       "      <td>...</td>\n",
       "      <td>...</td>\n",
       "      <td>...</td>\n",
       "      <td>...</td>\n",
       "      <td>...</td>\n",
       "      <td>...</td>\n",
       "      <td>...</td>\n",
       "      <td>...</td>\n",
       "      <td>...</td>\n",
       "      <td>...</td>\n",
       "      <td>...</td>\n",
       "    </tr>\n",
       "    <tr>\n",
       "      <th>576537</th>\n",
       "      <td>30</td>\n",
       "      <td>2</td>\n",
       "      <td>0</td>\n",
       "      <td>17</td>\n",
       "      <td>8</td>\n",
       "      <td>2.000000</td>\n",
       "      <td>3</td>\n",
       "      <td>0</td>\n",
       "      <td>5</td>\n",
       "      <td>0</td>\n",
       "      <td>...</td>\n",
       "      <td>0</td>\n",
       "      <td>22.000000</td>\n",
       "      <td>5</td>\n",
       "      <td>0</td>\n",
       "      <td>2</td>\n",
       "      <td>12</td>\n",
       "      <td>4</td>\n",
       "      <td>0</td>\n",
       "      <td>0.0</td>\n",
       "      <td>0</td>\n",
       "    </tr>\n",
       "    <tr>\n",
       "      <th>812560</th>\n",
       "      <td>30</td>\n",
       "      <td>2</td>\n",
       "      <td>3</td>\n",
       "      <td>15</td>\n",
       "      <td>2</td>\n",
       "      <td>2.000000</td>\n",
       "      <td>3</td>\n",
       "      <td>0</td>\n",
       "      <td>1</td>\n",
       "      <td>1</td>\n",
       "      <td>...</td>\n",
       "      <td>1</td>\n",
       "      <td>57.000000</td>\n",
       "      <td>5</td>\n",
       "      <td>0</td>\n",
       "      <td>2</td>\n",
       "      <td>7</td>\n",
       "      <td>4</td>\n",
       "      <td>0</td>\n",
       "      <td>0.0</td>\n",
       "      <td>0</td>\n",
       "    </tr>\n",
       "    <tr>\n",
       "      <th>294595</th>\n",
       "      <td>30</td>\n",
       "      <td>2</td>\n",
       "      <td>3</td>\n",
       "      <td>17</td>\n",
       "      <td>2</td>\n",
       "      <td>2.491601</td>\n",
       "      <td>3</td>\n",
       "      <td>0</td>\n",
       "      <td>1</td>\n",
       "      <td>1</td>\n",
       "      <td>...</td>\n",
       "      <td>0</td>\n",
       "      <td>29.000000</td>\n",
       "      <td>5</td>\n",
       "      <td>0</td>\n",
       "      <td>2</td>\n",
       "      <td>7</td>\n",
       "      <td>4</td>\n",
       "      <td>0</td>\n",
       "      <td>0.0</td>\n",
       "      <td>0</td>\n",
       "    </tr>\n",
       "    <tr>\n",
       "      <th>327794</th>\n",
       "      <td>30</td>\n",
       "      <td>2</td>\n",
       "      <td>3</td>\n",
       "      <td>15</td>\n",
       "      <td>8</td>\n",
       "      <td>2.491601</td>\n",
       "      <td>3</td>\n",
       "      <td>0</td>\n",
       "      <td>1</td>\n",
       "      <td>1</td>\n",
       "      <td>...</td>\n",
       "      <td>0</td>\n",
       "      <td>39.179463</td>\n",
       "      <td>5</td>\n",
       "      <td>0</td>\n",
       "      <td>2</td>\n",
       "      <td>12</td>\n",
       "      <td>4</td>\n",
       "      <td>0</td>\n",
       "      <td>0.0</td>\n",
       "      <td>0</td>\n",
       "    </tr>\n",
       "    <tr>\n",
       "      <th>272512</th>\n",
       "      <td>25</td>\n",
       "      <td>2</td>\n",
       "      <td>1</td>\n",
       "      <td>10</td>\n",
       "      <td>8</td>\n",
       "      <td>2.000000</td>\n",
       "      <td>3</td>\n",
       "      <td>0</td>\n",
       "      <td>1</td>\n",
       "      <td>0</td>\n",
       "      <td>...</td>\n",
       "      <td>1</td>\n",
       "      <td>56.000000</td>\n",
       "      <td>4</td>\n",
       "      <td>0</td>\n",
       "      <td>2</td>\n",
       "      <td>12</td>\n",
       "      <td>4</td>\n",
       "      <td>0</td>\n",
       "      <td>0.0</td>\n",
       "      <td>0</td>\n",
       "    </tr>\n",
       "  </tbody>\n",
       "</table>\n",
       "<p>332074 rows × 32 columns</p>\n",
       "</div>"
      ],
      "text/plain": [
       "        POSTED_SPEED_LIMIT  WEATHER_CONDITION  LIGHTING_CONDITION  \\\n",
       "207432                  30                  2                   3   \n",
       "964398                  30                  2                   3   \n",
       "603029                  30                  2                   3   \n",
       "113318                  30                  2                   3   \n",
       "460035                  30                  2                   1   \n",
       "...                    ...                ...                 ...   \n",
       "576537                  30                  2                   0   \n",
       "812560                  30                  2                   3   \n",
       "294595                  30                  2                   3   \n",
       "327794                  30                  2                   3   \n",
       "272512                  25                  2                   1   \n",
       "\n",
       "        FIRST_CRASH_TYPE  TRAFFICWAY_TYPE  LANE_CNT  ALIGNMENT  \\\n",
       "207432                10                2  2.491601          3   \n",
       "964398                17                8  2.491601          3   \n",
       "603029                 0                8  2.491601          3   \n",
       "113318                15               10  2.491601          3   \n",
       "460035                 9                3  4.000000          3   \n",
       "...                  ...              ...       ...        ...   \n",
       "576537                17                8  2.000000          3   \n",
       "812560                15                2  2.000000          3   \n",
       "294595                17                2  2.491601          3   \n",
       "327794                15                8  2.491601          3   \n",
       "272512                10                8  2.000000          3   \n",
       "\n",
       "        ROADWAY_SURFACE_COND  ROAD_DEFECT  CRASH_TYPE  ...  SEX        AGE  \\\n",
       "207432                     0            1           1  ...    1  64.000000   \n",
       "964398                     0            1           0  ...    1  41.000000   \n",
       "603029                     0            1           1  ...    1  54.000000   \n",
       "113318                     0            5           1  ...    0  39.179463   \n",
       "460035                     6            1           0  ...    2  39.179463   \n",
       "...                      ...          ...         ...  ...  ...        ...   \n",
       "576537                     0            5           0  ...    0  22.000000   \n",
       "812560                     0            1           1  ...    1  57.000000   \n",
       "294595                     0            1           1  ...    0  29.000000   \n",
       "327794                     0            1           1  ...    0  39.179463   \n",
       "272512                     0            1           0  ...    1  56.000000   \n",
       "\n",
       "        AIRBAG_DEPLOYED  EJECTION  INJURY_CLASSIFICATION  DRIVER_VISION  \\\n",
       "207432                5         0                      2              7   \n",
       "964398                5         0                      2              7   \n",
       "603029                6         0                      2             12   \n",
       "113318                4         0                      2             12   \n",
       "460035                4         0                      2             12   \n",
       "...                 ...       ...                    ...            ...   \n",
       "576537                5         0                      2             12   \n",
       "812560                5         0                      2              7   \n",
       "294595                5         0                      2              7   \n",
       "327794                5         0                      2             12   \n",
       "272512                4         0                      2             12   \n",
       "\n",
       "        PEDPEDAL_VISIBILITY  BAC_RESULT  BAC_RESULT_VALUE  CELL_PHONE_USE  \n",
       "207432                    4           0               0.0               0  \n",
       "964398                    4           0               0.0               0  \n",
       "603029                    4           0               0.0               0  \n",
       "113318                    4           0               0.0               0  \n",
       "460035                    4           0               0.0               0  \n",
       "...                     ...         ...               ...             ...  \n",
       "576537                    4           0               0.0               0  \n",
       "812560                    4           0               0.0               0  \n",
       "294595                    4           0               0.0               0  \n",
       "327794                    4           0               0.0               0  \n",
       "272512                    4           0               0.0               0  \n",
       "\n",
       "[332074 rows x 32 columns]"
      ]
     },
     "execution_count": 58,
     "metadata": {},
     "output_type": "execute_result"
    }
   ],
   "source": [
    "# Check\n",
    "X_train"
   ]
  },
  {
   "cell_type": "code",
   "execution_count": 59,
   "metadata": {},
   "outputs": [
    {
     "data": {
      "text/html": [
       "<div>\n",
       "<style scoped>\n",
       "    .dataframe tbody tr th:only-of-type {\n",
       "        vertical-align: middle;\n",
       "    }\n",
       "\n",
       "    .dataframe tbody tr th {\n",
       "        vertical-align: top;\n",
       "    }\n",
       "\n",
       "    .dataframe thead th {\n",
       "        text-align: right;\n",
       "    }\n",
       "</style>\n",
       "<table border=\"1\" class=\"dataframe\">\n",
       "  <thead>\n",
       "    <tr style=\"text-align: right;\">\n",
       "      <th></th>\n",
       "      <th>POSTED_SPEED_LIMIT</th>\n",
       "      <th>WEATHER_CONDITION</th>\n",
       "      <th>LIGHTING_CONDITION</th>\n",
       "      <th>FIRST_CRASH_TYPE</th>\n",
       "      <th>TRAFFICWAY_TYPE</th>\n",
       "      <th>LANE_CNT</th>\n",
       "      <th>ALIGNMENT</th>\n",
       "      <th>ROADWAY_SURFACE_COND</th>\n",
       "      <th>ROAD_DEFECT</th>\n",
       "      <th>CRASH_TYPE</th>\n",
       "      <th>...</th>\n",
       "      <th>SEX</th>\n",
       "      <th>AGE</th>\n",
       "      <th>AIRBAG_DEPLOYED</th>\n",
       "      <th>EJECTION</th>\n",
       "      <th>INJURY_CLASSIFICATION</th>\n",
       "      <th>DRIVER_VISION</th>\n",
       "      <th>PEDPEDAL_VISIBILITY</th>\n",
       "      <th>BAC_RESULT</th>\n",
       "      <th>BAC_RESULT_VALUE</th>\n",
       "      <th>CELL_PHONE_USE</th>\n",
       "    </tr>\n",
       "  </thead>\n",
       "  <tbody>\n",
       "    <tr>\n",
       "      <th>0</th>\n",
       "      <td>0.262406</td>\n",
       "      <td>-0.453555</td>\n",
       "      <td>0.433266</td>\n",
       "      <td>0.084556</td>\n",
       "      <td>-1.472440</td>\n",
       "      <td>0.000604</td>\n",
       "      <td>-0.026876</td>\n",
       "      <td>-0.556369</td>\n",
       "      <td>-0.435131</td>\n",
       "      <td>0.563112</td>\n",
       "      <td>...</td>\n",
       "      <td>0.212338</td>\n",
       "      <td>1.925837</td>\n",
       "      <td>0.462556</td>\n",
       "      <td>-0.326577</td>\n",
       "      <td>-0.156032</td>\n",
       "      <td>-1.141169</td>\n",
       "      <td>0.093811</td>\n",
       "      <td>-0.119568</td>\n",
       "      <td>-0.044009</td>\n",
       "      <td>-0.036259</td>\n",
       "    </tr>\n",
       "    <tr>\n",
       "      <th>1</th>\n",
       "      <td>0.262406</td>\n",
       "      <td>-0.453555</td>\n",
       "      <td>0.433266</td>\n",
       "      <td>1.426900</td>\n",
       "      <td>0.230250</td>\n",
       "      <td>0.000604</td>\n",
       "      <td>-0.026876</td>\n",
       "      <td>-0.556369</td>\n",
       "      <td>-0.435131</td>\n",
       "      <td>-1.775845</td>\n",
       "      <td>...</td>\n",
       "      <td>0.212338</td>\n",
       "      <td>0.141517</td>\n",
       "      <td>0.462556</td>\n",
       "      <td>-0.326577</td>\n",
       "      <td>-0.156032</td>\n",
       "      <td>-1.141169</td>\n",
       "      <td>0.093811</td>\n",
       "      <td>-0.119568</td>\n",
       "      <td>-0.044009</td>\n",
       "      <td>-0.036259</td>\n",
       "    </tr>\n",
       "    <tr>\n",
       "      <th>2</th>\n",
       "      <td>0.262406</td>\n",
       "      <td>-0.453555</td>\n",
       "      <td>0.433266</td>\n",
       "      <td>-1.833079</td>\n",
       "      <td>0.230250</td>\n",
       "      <td>0.000604</td>\n",
       "      <td>-0.026876</td>\n",
       "      <td>-0.556369</td>\n",
       "      <td>-0.435131</td>\n",
       "      <td>0.563112</td>\n",
       "      <td>...</td>\n",
       "      <td>0.212338</td>\n",
       "      <td>1.150046</td>\n",
       "      <td>1.559954</td>\n",
       "      <td>-0.326577</td>\n",
       "      <td>-0.156032</td>\n",
       "      <td>0.856287</td>\n",
       "      <td>0.093811</td>\n",
       "      <td>-0.119568</td>\n",
       "      <td>-0.044009</td>\n",
       "      <td>-0.036259</td>\n",
       "    </tr>\n",
       "    <tr>\n",
       "      <th>3</th>\n",
       "      <td>0.262406</td>\n",
       "      <td>-0.453555</td>\n",
       "      <td>0.433266</td>\n",
       "      <td>1.043373</td>\n",
       "      <td>0.797814</td>\n",
       "      <td>0.000604</td>\n",
       "      <td>-0.026876</td>\n",
       "      <td>-0.556369</td>\n",
       "      <td>2.340950</td>\n",
       "      <td>0.563112</td>\n",
       "      <td>...</td>\n",
       "      <td>-1.276420</td>\n",
       "      <td>0.000282</td>\n",
       "      <td>-0.634842</td>\n",
       "      <td>-0.326577</td>\n",
       "      <td>-0.156032</td>\n",
       "      <td>0.856287</td>\n",
       "      <td>0.093811</td>\n",
       "      <td>-0.119568</td>\n",
       "      <td>-0.044009</td>\n",
       "      <td>-0.036259</td>\n",
       "    </tr>\n",
       "    <tr>\n",
       "      <th>4</th>\n",
       "      <td>0.262406</td>\n",
       "      <td>-0.453555</td>\n",
       "      <td>-1.357432</td>\n",
       "      <td>-0.107208</td>\n",
       "      <td>-1.188658</td>\n",
       "      <td>1.578908</td>\n",
       "      <td>-0.026876</td>\n",
       "      <td>2.014623</td>\n",
       "      <td>-0.435131</td>\n",
       "      <td>-1.775845</td>\n",
       "      <td>...</td>\n",
       "      <td>1.701097</td>\n",
       "      <td>0.000282</td>\n",
       "      <td>-0.634842</td>\n",
       "      <td>-0.326577</td>\n",
       "      <td>-0.156032</td>\n",
       "      <td>0.856287</td>\n",
       "      <td>0.093811</td>\n",
       "      <td>-0.119568</td>\n",
       "      <td>-0.044009</td>\n",
       "      <td>-0.036259</td>\n",
       "    </tr>\n",
       "  </tbody>\n",
       "</table>\n",
       "<p>5 rows × 32 columns</p>\n",
       "</div>"
      ],
      "text/plain": [
       "   POSTED_SPEED_LIMIT  WEATHER_CONDITION  LIGHTING_CONDITION  \\\n",
       "0            0.262406          -0.453555            0.433266   \n",
       "1            0.262406          -0.453555            0.433266   \n",
       "2            0.262406          -0.453555            0.433266   \n",
       "3            0.262406          -0.453555            0.433266   \n",
       "4            0.262406          -0.453555           -1.357432   \n",
       "\n",
       "   FIRST_CRASH_TYPE  TRAFFICWAY_TYPE  LANE_CNT  ALIGNMENT  \\\n",
       "0          0.084556        -1.472440  0.000604  -0.026876   \n",
       "1          1.426900         0.230250  0.000604  -0.026876   \n",
       "2         -1.833079         0.230250  0.000604  -0.026876   \n",
       "3          1.043373         0.797814  0.000604  -0.026876   \n",
       "4         -0.107208        -1.188658  1.578908  -0.026876   \n",
       "\n",
       "   ROADWAY_SURFACE_COND  ROAD_DEFECT  CRASH_TYPE  ...       SEX       AGE  \\\n",
       "0             -0.556369    -0.435131    0.563112  ...  0.212338  1.925837   \n",
       "1             -0.556369    -0.435131   -1.775845  ...  0.212338  0.141517   \n",
       "2             -0.556369    -0.435131    0.563112  ...  0.212338  1.150046   \n",
       "3             -0.556369     2.340950    0.563112  ... -1.276420  0.000282   \n",
       "4              2.014623    -0.435131   -1.775845  ...  1.701097  0.000282   \n",
       "\n",
       "   AIRBAG_DEPLOYED  EJECTION  INJURY_CLASSIFICATION  DRIVER_VISION  \\\n",
       "0         0.462556 -0.326577              -0.156032      -1.141169   \n",
       "1         0.462556 -0.326577              -0.156032      -1.141169   \n",
       "2         1.559954 -0.326577              -0.156032       0.856287   \n",
       "3        -0.634842 -0.326577              -0.156032       0.856287   \n",
       "4        -0.634842 -0.326577              -0.156032       0.856287   \n",
       "\n",
       "   PEDPEDAL_VISIBILITY  BAC_RESULT  BAC_RESULT_VALUE  CELL_PHONE_USE  \n",
       "0             0.093811   -0.119568         -0.044009       -0.036259  \n",
       "1             0.093811   -0.119568         -0.044009       -0.036259  \n",
       "2             0.093811   -0.119568         -0.044009       -0.036259  \n",
       "3             0.093811   -0.119568         -0.044009       -0.036259  \n",
       "4             0.093811   -0.119568         -0.044009       -0.036259  \n",
       "\n",
       "[5 rows x 32 columns]"
      ]
     },
     "execution_count": 59,
     "metadata": {},
     "output_type": "execute_result"
    }
   ],
   "source": [
    "# Use StandardScaler to scale data\n",
    "from sklearn.preprocessing import StandardScaler\n",
    "\n",
    "# Instantiate StandardScaler\n",
    "scaler = StandardScaler()\n",
    "\n",
    "# Transform the training and test sets\n",
    "scaled_data_train = scaler.fit_transform(X_train)\n",
    "scaled_data_test = scaler.transform(X_test)\n",
    "\n",
    "# Convert into a DataFrame\n",
    "scaled_df_train = pd.DataFrame(scaled_data_train, columns=X.columns)\n",
    "scaled_df_train.head()"
   ]
  },
  {
   "cell_type": "markdown",
   "metadata": {},
   "source": [
    "### Dummy Classifier"
   ]
  },
  {
   "cell_type": "code",
   "execution_count": 60,
   "metadata": {},
   "outputs": [],
   "source": [
    "# generates random predictions by respecting the training set class distribution.\n",
    "from sklearn.dummy import DummyClassifier"
   ]
  },
  {
   "cell_type": "code",
   "execution_count": 61,
   "metadata": {},
   "outputs": [
    {
     "name": "stdout",
     "output_type": "stream",
     "text": [
      "time: 0.04947400093078613\n"
     ]
    }
   ],
   "source": [
    "start = time.time()\n",
    "\n",
    "# Instantiate \n",
    "clf = DummyClassifier(strategy='stratified', random_state=0)\n",
    "\n",
    "# Fit the Classifier\n",
    "clf.fit(X_train, y_train)\n",
    "DummyClassifier(random_state=0, strategy='stratified')\n",
    "clf.score(X_test, y_test)\n",
    "\n",
    "# Predict on the test set\n",
    "y_preds = clf.predict(X_test)\n",
    "\n",
    "end = time.time()\n",
    "dum_n = end - start\n",
    "print(f'time: {dum_n}')"
   ]
  },
  {
   "cell_type": "code",
   "execution_count": 62,
   "metadata": {},
   "outputs": [
    {
     "name": "stdout",
     "output_type": "stream",
     "text": [
      "Precision Score: [0.85073978 0.15072835]\n",
      "Recall Score: [0.85199584 0.14946211]\n",
      "Accuracy Score: 0.7469826184367434\n",
      "F1 Score: [0.85136734 0.15009256]\n",
      "Confision Matrix: \n",
      "[[80212 13934]\n",
      " [14073  2473]]\n",
      "\n",
      " Run Time: 0.04947400093078613\n"
     ]
    }
   ],
   "source": [
    "print_metrics(y_test, y_preds, dum_n)"
   ]
  },
  {
   "cell_type": "markdown",
   "metadata": {},
   "source": [
    "### Decision Tree"
   ]
  },
  {
   "cell_type": "code",
   "execution_count": 63,
   "metadata": {},
   "outputs": [],
   "source": [
    "from sklearn.model_selection import cross_val_score\n",
    "from sklearn.tree import DecisionTreeClassifier, export_graphviz\n",
    "from sklearn import tree\n",
    "import graphviz"
   ]
  },
  {
   "cell_type": "code",
   "execution_count": 64,
   "metadata": {},
   "outputs": [
    {
     "data": {
      "text/plain": [
       "1.385653018951416"
      ]
     },
     "execution_count": 64,
     "metadata": {},
     "output_type": "execute_result"
    }
   ],
   "source": [
    "start = time.time()\n",
    "\n",
    "# Train a Decesion Tree\n",
    "dt_model = DecisionTreeClassifier(random_state=10, max_depth=5)  \n",
    "dt_model.fit(X_train, y_train) \n",
    "\n",
    "# Make predictions for test data\n",
    "y_pred = dt_model.predict(X_test)\n",
    "\n",
    "end = time.time()\n",
    "dt_n = end - start\n",
    "dt_n"
   ]
  },
  {
   "cell_type": "code",
   "execution_count": 65,
   "metadata": {},
   "outputs": [
    {
     "name": "stdout",
     "output_type": "stream",
     "text": [
      "Precision Score: [0.8579048  0.56160164]\n",
      "Recall Score: [0.99092898 0.0661187 ]\n",
      "Accuracy Score: 0.8526903479926282\n",
      "F1 Score: [0.91963133 0.11830864]\n",
      "Confision Matrix: \n",
      "[[93292   854]\n",
      " [15452  1094]]\n",
      "\n",
      " Run Time: 1.385653018951416\n"
     ]
    }
   ],
   "source": [
    "print_metrics(y_test, y_pred, dt_n) "
   ]
  },
  {
   "cell_type": "code",
   "execution_count": 66,
   "metadata": {},
   "outputs": [
    {
     "data": {
      "text/plain": [
       "'figures/dt_printout.png'"
      ]
     },
     "execution_count": 66,
     "metadata": {},
     "output_type": "execute_result"
    }
   ],
   "source": [
    "print_tree(dt_model, X.columns.tolist(), 'dt_printout')"
   ]
  },
  {
   "cell_type": "markdown",
   "metadata": {},
   "source": [
    "### Feature Importance"
   ]
  },
  {
   "cell_type": "code",
   "execution_count": 67,
   "metadata": {},
   "outputs": [
    {
     "data": {
      "text/plain": [
       "array([1.74584837e-03, 0.00000000e+00, 4.31729512e-03, 8.50872489e-01,\n",
       "       1.77529918e-02, 0.00000000e+00, 0.00000000e+00, 0.00000000e+00,\n",
       "       0.00000000e+00, 1.21188942e-02, 6.99413892e-03, 0.00000000e+00,\n",
       "       0.00000000e+00, 3.04665889e-02, 7.64858703e-03, 0.00000000e+00,\n",
       "       0.00000000e+00, 5.55573228e-04, 2.13482389e-04, 2.76434026e-03,\n",
       "       0.00000000e+00, 0.00000000e+00, 0.00000000e+00, 0.00000000e+00,\n",
       "       0.00000000e+00, 7.95191821e-04, 0.00000000e+00, 3.98059753e-02,\n",
       "       2.39486038e-02, 0.00000000e+00, 0.00000000e+00, 0.00000000e+00])"
      ]
     },
     "execution_count": 67,
     "metadata": {},
     "output_type": "execute_result"
    }
   ],
   "source": [
    "dt_model.feature_importances_"
   ]
  },
  {
   "cell_type": "code",
   "execution_count": 68,
   "metadata": {},
   "outputs": [
    {
     "data": {
      "image/png": "[encoded data removed]",
      "text/plain": [
       "<Figure size 576x576 with 1 Axes>"
      ]
     },
     "metadata": {
      "needs_background": "light"
     },
     "output_type": "display_data"
    }
   ],
   "source": [
    "plot_feature_importances(dt_model)"
   ]
  },
  {
   "cell_type": "markdown",
   "metadata": {},
   "source": [
    "### Bagged Tree"
   ]
  },
  {
   "cell_type": "code",
   "execution_count": 69,
   "metadata": {},
   "outputs": [],
   "source": [
    "from sklearn.ensemble import BaggingClassifier"
   ]
  },
  {
   "cell_type": "code",
   "execution_count": 70,
   "metadata": {},
   "outputs": [
    {
     "data": {
      "text/plain": [
       "87.61605095863342"
      ]
     },
     "execution_count": 70,
     "metadata": {},
     "output_type": "execute_result"
    }
   ],
   "source": [
    "start = time.time()\n",
    "\n",
    "# Instantiate a BaggingClassifier\n",
    "bagged_tree =  BaggingClassifier(DecisionTreeClassifier(criterion='gini'), \n",
    "                                 n_estimators=20)\n",
    "\n",
    "# Fit to the training data\n",
    "bagged_tree.fit(X_train, y_train)\n",
    "\n",
    "# Make predictions for test data\n",
    "bag_pred = bagged_tree.predict(X_test)\n",
    "\n",
    "end = time.time()\n",
    "bag_n = end - start\n",
    "bag_n"
   ]
  },
  {
   "cell_type": "code",
   "execution_count": 71,
   "metadata": {},
   "outputs": [
    {
     "name": "stdout",
     "output_type": "stream",
     "text": [
      "Precision Score: [0.96723175 0.220718  ]\n",
      "Recall Score: [0.87596556 0.54208104]\n",
      "Accuracy Score: 0.855644491020128\n",
      "F1 Score: [0.91933912 0.31370528]\n",
      "Confision Matrix: \n",
      "[[91061 12894]\n",
      " [ 3085  3652]]\n",
      "\n",
      " Run Time: 87.61605095863342\n"
     ]
    }
   ],
   "source": [
    "print_metrics(bag_pred, y_test, bag_n)"
   ]
  },
  {
   "cell_type": "markdown",
   "metadata": {},
   "source": [
    "### Random Forrest"
   ]
  },
  {
   "cell_type": "code",
   "execution_count": 72,
   "metadata": {},
   "outputs": [],
   "source": [
    "from sklearn.ensemble import RandomForestClassifier"
   ]
  },
  {
   "cell_type": "code",
   "execution_count": 73,
   "metadata": {},
   "outputs": [
    {
     "data": {
      "text/plain": [
       "96.95840001106262"
      ]
     },
     "execution_count": 73,
     "metadata": {},
     "output_type": "execute_result"
    }
   ],
   "source": [
    "start = time.time()\n",
    "\n",
    "# Instantiate and fit a RandomForestClassifier\n",
    "forest = RandomForestClassifier(n_estimators=100)\n",
    "forest.fit(X_train, y_train)\n",
    "\n",
    "# Make predictions for test data\n",
    "forest_pred = forest.predict(X_test)\n",
    "\n",
    "end = time.time()\n",
    "forest_n = end - start\n",
    "forest_n"
   ]
  },
  {
   "cell_type": "code",
   "execution_count": 74,
   "metadata": {},
   "outputs": [
    {
     "name": "stdout",
     "output_type": "stream",
     "text": [
      "Precision Score: [0.982559   0.17121963]\n",
      "Recall Score: [0.87089637 0.63307263]\n",
      "Accuracy Score: 0.8612817547790265\n",
      "F1 Score: [0.92336409 0.26953998]\n",
      "Confision Matrix: \n",
      "[[92504 13713]\n",
      " [ 1642  2833]]\n",
      "\n",
      " Run Time: 96.95840001106262\n"
     ]
    }
   ],
   "source": [
    "print_metrics(forest_pred, y_test, forest_n)"
   ]
  },
  {
   "cell_type": "code",
   "execution_count": null,
   "metadata": {},
   "outputs": [],
   "source": []
  },
  {
   "cell_type": "markdown",
   "metadata": {},
   "source": [
    "### Pipeline"
   ]
  },
  {
   "cell_type": "code",
   "execution_count": 75,
   "metadata": {},
   "outputs": [],
   "source": [
    "from sklearn.pipeline import Pipeline"
   ]
  },
  {
   "cell_type": "code",
   "execution_count": 76,
   "metadata": {},
   "outputs": [],
   "source": [
    "# Build a pipeline with StandardScaler and RandomForsestClassifier\n",
    "scaled_pipeline_1 = Pipeline([('ss', StandardScaler()), \n",
    "                              ('RFC', RandomForestClassifier(random_state=42))])"
   ]
  },
  {
   "cell_type": "code",
   "execution_count": 77,
   "metadata": {},
   "outputs": [
    {
     "data": {
      "text/plain": [
       "94.63700413703918"
      ]
     },
     "execution_count": 77,
     "metadata": {},
     "output_type": "execute_result"
    }
   ],
   "source": [
    "start = time.time()\n",
    "\n",
    "# Fit the training data to pipeline\n",
    "scaled_pipeline_1.fit(X_train, y_train)\n",
    "\n",
    "# Print the accuracy on test set\n",
    "scaled_pipeline_1.score(X_test, y_test)\n",
    "\n",
    "# Make predictions for test data\n",
    "pipline_pred = scaled_pipeline_1.predict(X_test)\n",
    "\n",
    "end = time.time()\n",
    "pipe_n = end - start\n",
    "pipe_n"
   ]
  },
  {
   "cell_type": "code",
   "execution_count": 78,
   "metadata": {},
   "outputs": [
    {
     "name": "stdout",
     "output_type": "stream",
     "text": [
      "Precision Score: [0.98266522 0.17363713]\n",
      "Recall Score: [0.87123659 0.63773585]\n",
      "Accuracy Score: 0.8617334586058613\n",
      "F1 Score: [0.9236022  0.27295615]\n",
      "Confision Matrix: \n",
      "[[92514 13673]\n",
      " [ 1632  2873]]\n",
      "\n",
      " Run Time: 94.63700413703918\n"
     ]
    }
   ],
   "source": [
    "print_metrics(pipline_pred, y_test, pipe_n)"
   ]
  },
  {
   "cell_type": "markdown",
   "metadata": {},
   "source": [
    "### SGD Classifier"
   ]
  },
  {
   "cell_type": "code",
   "execution_count": 79,
   "metadata": {},
   "outputs": [],
   "source": [
    "from sklearn.kernel_approximation import RBFSampler\n",
    "from sklearn.linear_model import SGDClassifier\n",
    "from sklearn.pipeline import make_pipeline"
   ]
  },
  {
   "cell_type": "code",
   "execution_count": null,
   "metadata": {},
   "outputs": [],
   "source": [
    "start = time.time()\n",
    "\n",
    "# Fit the training data to pipeline\n",
    "clf = make_pipeline(StandardScaler(),\n",
    "                    SGDClassifier(max_iter=1000, tol=1e-3))\n",
    "clf.fit(X_train, y_train)\n",
    "\n",
    "# Print the accuracy on test set\n",
    "Pipeline(steps=[('standardscaler', StandardScaler()),\n",
    "                ('sgdclassifier', SGDClassifier())])\n",
    "\n",
    "# Make predictions for test data\n",
    "sgd_pred = clf.predict(X_test)\n",
    "\n",
    "end = time.time()\n",
    "sgd_n = end - start\n",
    "sgd_n"
   ]
  },
  {
   "cell_type": "code",
   "execution_count": null,
   "metadata": {},
   "outputs": [],
   "source": [
    "print_metrics(sgd_pred, y_test, sgd_n)"
   ]
  },
  {
   "cell_type": "markdown",
   "metadata": {},
   "source": [
    "## Recommendations"
   ]
  },
  {
   "cell_type": "markdown",
   "metadata": {},
   "source": [
    "In driver education classes:\n",
    "- Focus more on the importance of yielding especially when turning, changing lanes, and with pedestrians present\n",
    "\n",
    "- Rush hour when everyone is in a rush to get to work/get home is the time to be extra cautious \n",
    "\n",
    "For filling in crash reports:\n",
    " - Since most of the data is based on the determination of the reporting officer, having universal language would help repetitive data and multiple inputs meaning the same thing. ie the Hospital column having over 25 ways that \"Refused Medical Attention\" was inputted. \n",
    "\n"
   ]
  },
  {
   "cell_type": "markdown",
   "metadata": {},
   "source": [
    "### Recommended Future Work "
   ]
  },
  {
   "cell_type": "markdown",
   "metadata": {},
   "source": [
    "- Examine how other action and causes affect the models\n",
    "- Add the third linked dataframe covering the cars involved to go more in depth.\n",
    "\n",
    "- Streamline the data:\n",
    " - Research the differences in crashes, causes, etc. Example: not yielding to parked vehicle? \n",
    " - Combine like columns, rows based on the research\n",
    " - Binning and cluster data \n",
    "- Run other models that take longer to run\n",
    "\n"
   ]
  }
 ],
 "metadata": {
  "kernelspec": {
   "display_name": "Python 3",
   "language": "python",
   "name": "python3"
  },
  "language_info": {
   "codemirror_mode": {
    "name": "ipython",
    "version": 3
   },
   "file_extension": ".py",
   "mimetype": "text/x-python",
   "name": "python",
   "nbconvert_exporter": "python",
   "pygments_lexer": "ipython3",
   "version": "3.6.9"
  },
  "toc": {
   "base_numbering": 1,
   "nav_menu": {},
   "number_sections": true,
   "sideBar": true,
   "skip_h1_title": false,
   "title_cell": "Table of Contents",
   "title_sidebar": "Contents",
   "toc_cell": false,
   "toc_position": {
    "height": "calc(100% - 180px)",
    "left": "10px",
    "top": "150px",
    "width": "256px"
   },
   "toc_section_display": true,
   "toc_window_display": true
  }
 },
 "nbformat": 4,
 "nbformat_minor": 2
}
